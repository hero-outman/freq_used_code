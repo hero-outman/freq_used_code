{
 "cells": [
  {
   "cell_type": "code",
   "execution_count": 8,
   "metadata": {},
   "outputs": [
    {
     "data": {
      "text/plain": [
       "'/Users/jplab/Desktop/snakepipes_Data/CUT_TAG_snakepipes/FOXA1_H3K27ac/combine_analysis/annotation_bed/peak_TSS_anno_and_downstream'"
      ]
     },
     "execution_count": 8,
     "metadata": {},
     "output_type": "execute_result"
    }
   ],
   "source": [
    "import pandas as pd\n",
    "import os\n",
    "\n",
    "working_dir = '/Users/jplab/Desktop/snakepipes_Data/CUT_TAG_snakepipes/FOXA1_H3K27ac/combine_analysis/annotation_bed/peak_TSS_anno_and_downstream/'\n",
    "\n",
    "os.chdir(working_dir)\n",
    "\n",
    "os.getcwd()"
   ]
  },
  {
   "cell_type": "code",
   "execution_count": null,
   "metadata": {},
   "outputs": [],
   "source": [
    "/Users/jplab/Desktop/snakepipes_Data/CUT_TAG_snakepipes/FOXA1_H3K27ac/combine_analysis/annotation_bed/peak_TSS_anno_and_downstream/ATAC.B.oepn_FOXA1.BDT.B14most.csawPNosig_H3K27acB14.ATAC_B14_ncUp.TCGA_LUAD.tsv\n",
    "/Users/jplab/Desktop/snakepipes_Data/CUT_TAG_snakepipes/FOXA1_H3K27ac/combine_analysis/annotation_bed/peak_TSS_anno_and_downstream/ATAC.B.oepn_FOXA1.BDT.B14most.csawPNosig_H3K27acB14.TCGA_LUAD.tsv"
   ]
  },
  {
   "cell_type": "code",
   "execution_count": 12,
   "metadata": {},
   "outputs": [],
   "source": [
    "df1 = pd.read_csv('/Users/jplab/Desktop/snakepipes_Data/CUT_TAG_snakepipes/FOXA1_H3K27ac/combine_analysis/annotation_bed/peak_TSS_anno_and_downstream/ATAC.B.oepn_FOXA1.BDT.B14most.csawPNosig_H3K27acB14.TCGA_LUAD.tsv', sep='\\t',header=0,index_col=None)\n",
    "\n",
    "\n",
    "# df1 = pd.read_excel('/Users/jplab/Desktop/DAILY_CODE_DATA/2022-4/data/4-28_ATAC_CUT_intersect_with_mRNA/intersect.region.50k_with_mRNA.xlsx', sheet_name='status_UP')\n",
    "\n",
    "df2 = pd.read_csv('/Users/jplab/Desktop/snakepipes_Data/mRNA_seq_FOXA1_KD_NC_2022221/DEG/DESeq2_samplesheet_shNC-B14vsTGFb/DEseq_basic_DEresults_counts_DESeq2.normalized_noVersion.tsv', sep='\\t',header=0,index_col=None) "
   ]
  },
  {
   "cell_type": "code",
   "execution_count": 13,
   "metadata": {},
   "outputs": [],
   "source": [
    "outer='outer'\n",
    "inner='inner'\n",
    "df_merged = pd.merge(\n",
    "    df1,\n",
    "    df2,\n",
    "    left_on='gene_id',\n",
    "    right_on='geneid', \n",
    "    how=inner)\n",
    "\n",
    "# remove all 0 samples\n",
    "# df_merged = df_merged[df_merged['ABM1'] + df_merged['ABM2'] + df_merged['PBSM1'] + df_merged['PBSM2'] > 0]\n",
    "\n",
    "# df_merged = df_merged[df_merged['baseMean'] != 0]\n",
    "\n",
    "# df_merged = df_merged[df_merged['baseMean'] >= 50]\n",
    "\n",
    "\n",
    "df_merged.to_csv('ATAC.B.oepn_FOXA1.BDT.B14most.csawPNosig_H3K27acB14.DEGBvsTBup.TCGA_LUAD.tsv', sep='\\t', index=False,na_rep='NA')\n",
    "\n"
   ]
  }
 ],
 "metadata": {
  "interpreter": {
   "hash": "40d3a090f54c6569ab1632332b64b2c03c39dcf918b08424e98f38b5ae0af88f"
  },
  "kernelspec": {
   "display_name": "Python 3.8.5 ('base')",
   "language": "python",
   "name": "python3"
  },
  "language_info": {
   "codemirror_mode": {
    "name": "ipython",
    "version": 3
   },
   "file_extension": ".py",
   "mimetype": "text/x-python",
   "name": "python",
   "nbconvert_exporter": "python",
   "pygments_lexer": "ipython3",
   "version": "3.8.5"
  },
  "orig_nbformat": 4
 },
 "nbformat": 4,
 "nbformat_minor": 2
}
