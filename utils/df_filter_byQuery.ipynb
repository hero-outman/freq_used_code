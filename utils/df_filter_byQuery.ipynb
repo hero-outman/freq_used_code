{
 "cells": [
  {
   "cell_type": "code",
   "execution_count": 1,
   "metadata": {},
   "outputs": [],
   "source": [
    "import pandas as pd"
   ]
  },
  {
   "cell_type": "markdown",
   "metadata": {},
   "source": [
    "## set Threshold to RNA data after merge expression value with bed annotation\n",
    "### condition:\n",
    "* B14_mean expression >= 100\n",
    "* Pvalue < 0.05\n",
    "* log2FC >= 0.5\n",
    "  * 2^0.6 = 1.5\n",
    "  * 2^0.5 = 1.414 \n",
    "\n",
    "* code example \n",
    "  ```\n",
    "  df_filtered = df_gene_list.query(\"log2FoldChange >= 0.5 or change == 'Up'\")\n",
    "  ```"
   ]
  },
  {
   "cell_type": "code",
   "execution_count": 16,
   "metadata": {},
   "outputs": [],
   "source": [
    "df_gene_list = pd.read_csv(\"/Users/jplab/Desktop/2022-2/data/2-18_generegion_anno_gene_match/RNABvsT_match_anno.tsv\",header=0, sep=\"\\t\")\n",
    "df_gene_list.head()\n",
    "\n",
    "# use condition to filter\n",
    "df_filtered = df_gene_list. \\\n",
    "    query(\"log2FoldChange >= 0.5\"). \\\n",
    "    query(\"pvalue <= 0.05\")\n",
    "df_filtered = df_filtered[df_filtered[['B14_2.0.rp1','B14_2.0.rp2']].mean(axis=1) >= 100]\n"
   ]
  },
  {
   "cell_type": "code",
   "execution_count": 17,
   "metadata": {},
   "outputs": [],
   "source": [
    "df_filtered.to_csv(\"/Users/jplab/Desktop/2022-2/data/2-21_RNA_anno_filter/FOXA1_BDT_B14ATAC_B14H3K27ac_anno_fltered.tsv\",sep=\"\\t\",index=False)"
   ]
  }
 ],
 "metadata": {
  "interpreter": {
   "hash": "40d3a090f54c6569ab1632332b64b2c03c39dcf918b08424e98f38b5ae0af88f"
  },
  "kernelspec": {
   "display_name": "Python 3.8.5 64-bit ('base': conda)",
   "language": "python",
   "name": "python3"
  },
  "language_info": {
   "codemirror_mode": {
    "name": "ipython",
    "version": 3
   },
   "file_extension": ".py",
   "mimetype": "text/x-python",
   "name": "python",
   "nbconvert_exporter": "python",
   "pygments_lexer": "ipython3",
   "version": "3.8.5"
  },
  "orig_nbformat": 4
 },
 "nbformat": 4,
 "nbformat_minor": 2
}
