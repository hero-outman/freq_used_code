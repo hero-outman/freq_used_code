{
 "cells": [
  {
   "cell_type": "markdown",
   "metadata": {},
   "source": [
    "## before convertion, rename ensg gene id column with name 'geneid' or somewhat"
   ]
  },
  {
   "cell_type": "code",
   "execution_count": 1,
   "metadata": {},
   "outputs": [
    {
     "data": {
      "text/plain": [
       "'/Users/jplab/Desktop/snakepipes_Data/mRNA_seq_FOXA1_KD_NC_2022221/DEG/DESeq2_samplesheet_shNC-B14vsDMSO'"
      ]
     },
     "execution_count": 1,
     "metadata": {},
     "output_type": "execute_result"
    }
   ],
   "source": [
    "import pandas as pd\n",
    "import os,glob\n",
    "\n",
    "working_dir = '/Users/jplab/Desktop/snakepipes_Data/mRNA_seq_FOXA1_KD_NC_2022221/DEG/DESeq2_samplesheet_shNC-B14vsDMSO/'\n",
    "\n",
    "save_to = working_dir\n",
    "\n",
    "os.chdir(working_dir)\n",
    "\n",
    "os.getcwd()"
   ]
  },
  {
   "cell_type": "code",
   "execution_count": 3,
   "metadata": {},
   "outputs": [
    {
     "name": "stdout",
     "output_type": "stream",
     "text": [
      "created folder :  /Users/jplab/Desktop/snakepipes_Data/mRNA_seq_FOXA1_KD_NC_2022221/DEG/DESeq2_samplesheet_shNC-B14vsDMSODESeq2_samplesheet_shNC-B14vsDMSO/\n",
      "/Users/jplab/Desktop/snakepipes_Data/mRNA_seq_FOXA1_KD_NC_2022221/DEG/DESeq2_samplesheet_shNC-B14vsDMSO/DEseq_basic_DEresults.tsv converted to /Users/jplab/Desktop/snakepipes_Data/mRNA_seq_FOXA1_KD_NC_2022221/DEG/DESeq2_samplesheet_shNC-B14vsDMSODESeq2_samplesheet_shNC-B14vsDMSO/DEseq_basic_DEresults_noVersion.tsv\"\n"
     ]
    }
   ],
   "source": [
    "convert_file_list = [\n",
    "'/Users/jplab/Desktop/snakepipes_Data/mRNA_seq_FOXA1_KD_NC_2022221/DEG/DESeq2_samplesheet_shNC-B14vsDMSO/DEseq_basic_DEresults.tsv'\n",
    "]\n",
    "\n",
    "# convert_file_list = glob.glob('/Users/jplab/Desktop/snakepipes_Data/results_mRNA_seq_FOXA1_KD_NC_2022221/DESeq2_samplesheet*B14vsTGFb/*tsv')\n",
    "\n",
    "for f in  convert_file_list:\n",
    "    filename, file_extension = os.path.splitext(f)\n",
    "    df = pd.read_csv(f, sep='\\t',header=0,index_col=None)\n",
    "    df['geneid'] = df['geneid'].str.split('.').str[0]\n",
    "\n",
    "    # remove duplicate geneid(sometimes need to do this)\n",
    "    df.drop_duplicates(subset=['geneid'], keep='first', inplace=True)\n",
    "\n",
    "    parent_folder = f.split('/')[-2]\n",
    "    parent_folder = parent_folder + '/'\n",
    "    save_file = working_dir + parent_folder + filename.split('/')[-1] + '_noVersion' + file_extension\n",
    "\n",
    "    MYDIR = working_dir + parent_folder\n",
    "    CHECK_FOLDER = os.path.isdir(MYDIR)\n",
    "\n",
    "    if not CHECK_FOLDER:\n",
    "        os.makedirs(MYDIR)\n",
    "        print(\"created folder : \", MYDIR)\n",
    "\n",
    "    else:\n",
    "        print(MYDIR, \"folder already exists.\")\n",
    "\n",
    "\n",
    "    df.to_csv(save_file, sep='\\t', index=False)\n",
    "\n",
    "    print(f'{f} converted to {save_file}\"')"
   ]
  }
 ],
 "metadata": {
  "interpreter": {
   "hash": "40d3a090f54c6569ab1632332b64b2c03c39dcf918b08424e98f38b5ae0af88f"
  },
  "kernelspec": {
   "display_name": "Python 3.8.5 ('base')",
   "language": "python",
   "name": "python3"
  },
  "language_info": {
   "codemirror_mode": {
    "name": "ipython",
    "version": 3
   },
   "file_extension": ".py",
   "mimetype": "text/x-python",
   "name": "python",
   "nbconvert_exporter": "python",
   "pygments_lexer": "ipython3",
   "version": "3.8.5"
  },
  "orig_nbformat": 4
 },
 "nbformat": 4,
 "nbformat_minor": 2
}
