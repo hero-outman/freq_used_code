{
 "cells": [
  {
   "cell_type": "markdown",
   "metadata": {},
   "source": [
    "## search by gene family or by gene list\n",
    "## TODO: \n",
    "* add function of searching by gene list\n",
    "* ignore case sensitive in gene family and gene list search"
   ]
  },
  {
   "cell_type": "code",
   "execution_count": null,
   "metadata": {},
   "outputs": [],
   "source": [
    "import pandas as pd\n",
    "import matplotlib.pyplot as plt\n",
    "import numpy as np\n",
    "import os"
   ]
  },
  {
   "cell_type": "code",
   "execution_count": null,
   "metadata": {},
   "outputs": [],
   "source": [
    "os.chdir('/Users/jplab/Desktop/DAILY_CODE_DATA/2022-4/data/4-27_FOX_family_mRNA_shnc')"
   ]
  },
  {
   "cell_type": "code",
   "execution_count": null,
   "metadata": {},
   "outputs": [],
   "source": [
    "deseq2Norm_counts = '/Users/jplab/Desktop/snakepipes_Data/results_mRNA_seq_FOXA1_KD_NC_2022221/featureCounts/counts_deseq2Normed_symbol.tsv'\n",
    "\n",
    "df_deseq2Norm_counts = pd.read_csv(deseq2Norm_counts,header=0, sep='\\t')"
   ]
  },
  {
   "cell_type": "markdown",
   "metadata": {},
   "source": [
    "# for one gene family"
   ]
  },
  {
   "cell_type": "code",
   "execution_count": null,
   "metadata": {},
   "outputs": [],
   "source": [
    "looking_for = \"KRT\"\n",
    "df_deseq2Norm_counts = df_deseq2Norm_counts.dropna(subset=['external_gene_name'])\n",
    "df_filtered = df_deseq2Norm_counts[df_deseq2Norm_counts[\"external_gene_name\"].str.contains(looking_for)]\n",
    "print(df_filtered['external_gene_name'].tolist)"
   ]
  },
  {
   "cell_type": "markdown",
   "metadata": {},
   "source": [
    "# for **one** gene list"
   ]
  },
  {
   "cell_type": "code",
   "execution_count": null,
   "metadata": {},
   "outputs": [],
   "source": [
    "gene_list_name = 'genes in our data'\n",
    "looking_for = {\n",
    "    gene_list_name:set([\n",
    "'PDPN', 'EMP2', 'AKAP5', 'HOPX'\n",
    "])\n",
    "    }\n",
    "df_deseq2Norm_counts = df_deseq2Norm_counts.dropna(subset=['external_gene_name'])\n",
    "df_filtered = df_deseq2Norm_counts[df_deseq2Norm_counts[\"external_gene_name\"].isin(looking_for[gene_list_name])]"
   ]
  },
  {
   "cell_type": "code",
   "execution_count": null,
   "metadata": {},
   "outputs": [],
   "source": [
    "columns = df_filtered.columns.to_list()\n",
    "start_offset = columns.index('geneid')\n",
    "end_offset = columns.index('baseMean')\n",
    "gene_name_offset = columns.index('external_gene_name')\n",
    "sample_names = columns[start_offset+1:end_offset]\n",
    "sample_numbers = len(sample_names)\n",
    "print('sample_name: ', sample_names)\n",
    "\n",
    "# mean expression value < 10 was removed\n",
    "df_filtered = df_filtered[df_filtered[sample_names].mean(axis=1) >= 10]\n",
    "genes = df_filtered['external_gene_name'].to_list()\n",
    "\n",
    "\n",
    "# 'shFOXA1_B14_1', 'shFOXA1_B14_2', 'shFOXA1_DMSO_1', 'shFOXA1_DMSO_2', 'shFOXA1_TGFb_1', 'shFOXA1_TGFb_2', 'shNC_B14_1', 'shNC_B14_2', 'shNC_DMSO_1', 'shNC_DMSO_2', 'shNC_TGFb_1', 'shNC_TGFb_2'\n",
    "dict_mean = {\n",
    "    'shNC_B14': [],\n",
    "    'shNC_DMSO': [],\n",
    "    'shNC_TGFb': [],\n",
    "    'shFOXA1_B14': [],\n",
    "    'shFOXA1_DMSO': [],\n",
    "    'shFOXA1_TGFb': [],\n",
    "}\n",
    "\n",
    "df_mean= pd.DataFrame(dict_mean)\n",
    "\n",
    "\n",
    "df_mean['shFOXA1_B14'] = df_filtered[['shFOXA1_B14_1', 'shFOXA1_B14_2']].mean(axis=1)\n",
    "df_mean['shFOXA1_DMSO'] = df_filtered[['shFOXA1_DMSO_1', 'shFOXA1_DMSO_2']].mean(axis=1)\n",
    "df_mean['shFOXA1_TGFb'] = df_filtered[['shFOXA1_TGFb_1', 'shFOXA1_TGFb_2']].mean(axis=1)\n",
    "df_mean['shNC_B14'] = df_filtered[['shNC_B14_1', 'shNC_B14_2']].mean(axis=1)\n",
    "df_mean['shNC_DMSO'] = df_filtered[['shNC_DMSO_1', 'shNC_DMSO_2']].mean(axis=1)\n",
    "df_mean['shNC_TGFb'] = df_filtered[['shNC_TGFb_1', 'shNC_TGFb_2']].mean(axis=1)\n",
    "df_mean['external_gene_name'] = genes\n",
    "df_mean.index = genes\n",
    "df_mean.sort_index(inplace=True)"
   ]
  },
  {
   "cell_type": "markdown",
   "metadata": {},
   "source": [
    "# for one gene family"
   ]
  },
  {
   "cell_type": "code",
   "execution_count": null,
   "metadata": {},
   "outputs": [],
   "source": [
    "color_list = ['#FFBF00', '#FF7F50', '#DE3163', '#9FE2BF', '#40E0D0', '#6495ED']\n",
    "\n",
    "ax= df_mean.plot(\n",
    "    kind='bar', \n",
    "    stacked=False,\n",
    "    figsize=(50,10),\n",
    "    color=color_list,\n",
    "    width=0.85,\n",
    "    zorder=1\n",
    "    )\n",
    "    \n",
    "plt.legend(prop={'size': 20})\n",
    "plt.title(looking_for + \" Gene Family Expression in mRNA_shFOXA1_ncFOXA1_data\",size=42)\n",
    "plt.xlabel(looking_for + \" Gene Family\",fontsize=30)\n",
    "plt.xticks(rotation=30, horizontalalignment=\"center\",fontsize=20)\n",
    "plt.ylabel(\"Expressions\",fontsize=30)\n",
    "plt.yticks(fontsize=20)\n",
    "plt.grid(axis='y', linestyle='--', linewidth=0.5, color='grey', alpha=0.5, zorder=0)"
   ]
  },
  {
   "cell_type": "markdown",
   "metadata": {},
   "source": [
    "# for one gene list"
   ]
  },
  {
   "cell_type": "code",
   "execution_count": null,
   "metadata": {},
   "outputs": [],
   "source": [
    "color_list = ['#FFBF00', '#FF7F50', '#DE3163', '#9FE2BF', '#40E0D0', '#6495ED']\n",
    "\n",
    "ax= df_mean.plot(\n",
    "    kind='bar', \n",
    "    stacked=False,\n",
    "    figsize=(50,10),\n",
    "    color=color_list,\n",
    "    width=0.85,\n",
    "    zorder=1\n",
    "    )\n",
    "\n",
    "plt.legend(prop={'size': 20})\n",
    "plt.title(gene_list_name + \" Expression in mRNA_shFOXA1_ncFOXA1_data\",size=42)\n",
    "plt.xlabel(gene_list_name + \" Genes\",fontsize=30)\n",
    "plt.xticks(rotation=30, horizontalalignment=\"center\",fontsize=20)\n",
    "plt.ylabel(\"Expressions\",fontsize=30)\n",
    "plt.yticks(fontsize=20)\n",
    "plt.grid(axis='y', linestyle='--', linewidth=0.5, color='grey', alpha=0.5, zorder=0)"
   ]
  }
 ],
 "metadata": {
  "interpreter": {
   "hash": "e5c95d2b292d5e19b4e412d18f65b9aa5b545d6159b734797341199dfa590498"
  },
  "kernelspec": {
   "display_name": "Python 3.9.2 ('diffTF')",
   "language": "python",
   "name": "python3"
  },
  "language_info": {
   "codemirror_mode": {
    "name": "ipython",
    "version": 3
   },
   "file_extension": ".py",
   "mimetype": "text/x-python",
   "name": "python",
   "nbconvert_exporter": "python",
   "pygments_lexer": "ipython3",
   "version": "3.8.5"
  },
  "orig_nbformat": 4
 },
 "nbformat": 4,
 "nbformat_minor": 2
}
