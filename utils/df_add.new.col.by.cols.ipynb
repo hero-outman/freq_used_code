{
 "cells": [
  {
   "cell_type": "code",
   "execution_count": null,
   "metadata": {},
   "outputs": [],
   "source": [
    "import pandas as pd\n",
    "import numpy as np"
   ]
  },
  {
   "cell_type": "code",
   "execution_count": 18,
   "metadata": {},
   "outputs": [],
   "source": [
    "df_gene_list = pd.read_csv(\"/Users/jplab/Desktop/freq_used_file/over_expressed_luad_logfc1q0.01_noVersion.tsv\",header=0, sep=\"\\t\")\n",
    "df_gene_list.head()\n",
    "\n",
    "df_gene_list['compare'] = np.where(df_gene_list['median_tumor'] < df_gene_list['median_normal'],'up_normal','up_tumor')\n",
    "df_gene_list['compare'] = np.where(df_gene_list['median_tumor'] > df_gene_list['median_normal'],'up_tumor','up_normal')\n"
   ]
  },
  {
   "cell_type": "code",
   "execution_count": 21,
   "metadata": {},
   "outputs": [],
   "source": [
    "df_gene_list.to_csv(\"/Users/jplab/Desktop/freq_used_file/over_expressed_luad_logfc1q0.01_compare.tsv\",sep=\"\\t\",index=False)"
   ]
  }
 ],
 "metadata": {
  "interpreter": {
   "hash": "40d3a090f54c6569ab1632332b64b2c03c39dcf918b08424e98f38b5ae0af88f"
  },
  "kernelspec": {
   "display_name": "Python 3.8.5 ('base')",
   "language": "python",
   "name": "python3"
  },
  "language_info": {
   "codemirror_mode": {
    "name": "ipython",
    "version": 3
   },
   "file_extension": ".py",
   "mimetype": "text/x-python",
   "name": "python",
   "nbconvert_exporter": "python",
   "pygments_lexer": "ipython3",
   "version": "3.8.5"
  },
  "orig_nbformat": 4
 },
 "nbformat": 4,
 "nbformat_minor": 2
}
