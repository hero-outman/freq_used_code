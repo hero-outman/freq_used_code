{
 "cells": [
  {
   "cell_type": "code",
   "execution_count": 14,
   "metadata": {},
   "outputs": [],
   "source": [
    "import plotly.express as px\n",
    "import dash_bio\n",
    "import os\n",
    "import pandas as pd\n",
    "import numpy as np\n",
    "\n",
    "wk_dir = '/Users/jplab/Desktop/DAILY_CODE_DATA/2022-7/data/7-12_phospho_kinase'\n",
    "os.chdir(wk_dir)"
   ]
  },
  {
   "cell_type": "markdown",
   "metadata": {},
   "source": [
    "# dash_io for vocanol plot"
   ]
  },
  {
   "cell_type": "code",
   "execution_count": null,
   "metadata": {},
   "outputs": [],
   "source": [
    "file_path = '/Users/jplab/Desktop/results_data_slides/phosphorylation_DFGZHJ052_Pep.normalize.keep.imputation.merge.ratio.FC1.5.pvalue.tsv'\n",
    "df_phospho_data = pd.read_csv(file_path, sep='\\t',header=0)\n",
    "\n",
    "col_names = df_phospho_data.columns\n",
    "col_names"
   ]
  },
  {
   "cell_type": "code",
   "execution_count": null,
   "metadata": {},
   "outputs": [],
   "source": [
    "# split dataframe\n",
    "keep = ['Accession', 'Description', 'Ratio.A_E', 'Ratio_base2.A_E','pValue.A_E', 'Sig(A_E)']\n",
    "df_AvsE = df_phospho_data[keep]\n",
    "df_AvsE.set_index(df_AvsE['Accession'])"
   ]
  },
  {
   "cell_type": "code",
   "execution_count": null,
   "metadata": {},
   "outputs": [],
   "source": [
    "eff_size = [-3, -2, -1, 0, 1, 2, 3]\n",
    "fig = dash_bio.VolcanoPlot(\n",
    "    dataframe=df_AvsE,\n",
    "    point_size=5,\n",
    "    effect_size='Ratio_base2.A_E',\n",
    "    p='pValue.A_E',\n",
    "    gene='Accession',\n",
    "    snp='Description',\n",
    "    # annotation='Accession'.split('_')[0],\n",
    "    logp=True,\n",
    "    genomewideline_value=1.3,\n",
    "    effect_size_line_width=2,\n",
    "    genomewideline_width=2,\n",
    "    xlabel='Ratio_base2.A_E',\n",
    "    col='#C0C0C0',\n",
    "    highlight_color='#FFA07A'\n",
    ")\n",
    "\n",
    "fig.write_html('test.html')"
   ]
  },
  {
   "cell_type": "markdown",
   "metadata": {},
   "source": [
    "# plotly express for scatter plot\n",
    "## NOTE: np.select use **gt(1.3) not > 1.3**, also use **&** not **and**"
   ]
  },
  {
   "cell_type": "code",
   "execution_count": 4,
   "metadata": {},
   "outputs": [
    {
     "data": {
      "text/plain": [
       "Index(['Accession', 'Description', 'Ratio.A_E', 'Ratio_base2.A_E',\n",
       "       'pValue.A_E', 'Sig(A_E)', 'Ratio.B_F', 'Ratio_base2.B_F', 'pValue.B_F',\n",
       "       'Sig(B_F)', 'Ratio.C_G', 'Ratio_base2.C_G', 'pValue.C_G', 'Sig(C_G)',\n",
       "       'Ratio.D_H', 'Ratio_base2.D_H', 'pValue.D_H', 'Sig(D_H)', 'Ratio.A_B',\n",
       "       'Ratio_base2.A_B', 'pValue.A_B', 'Sig(A_B)', 'Ratio.A_C',\n",
       "       'Ratio_base2.A_C', 'pValue.A_C', 'Sig(A_C)', 'Ratio.B_C',\n",
       "       'Ratio_base2.B_C', 'pValue.B_C', 'Sig(B_C)', 'Ratio.C_D',\n",
       "       'Ratio_base2.C_D', 'pValue.C_D', 'Sig(C_D)', 'Ratio.E_F',\n",
       "       'Ratio_base2.E_F', 'pValue.E_F', 'Sig(E_F)', 'Ratio.E_G',\n",
       "       'Ratio_base2.E_G', 'pValue.E_G', 'Sig(E_G)', 'Ratio.F_G',\n",
       "       'Ratio_base2.F_G', 'pValue.F_G', 'Sig(F_G)', 'Ratio.G_H',\n",
       "       'Ratio_base2.G_H', 'pValue.G_H', 'Sig(G_H)'],\n",
       "      dtype='object')"
      ]
     },
     "execution_count": 4,
     "metadata": {},
     "output_type": "execute_result"
    }
   ],
   "source": [
    "file_path = '/Users/jplab/Desktop/results_data_slides/phosphorylation_DFGZHJ052_Pep.normalize.keep.imputation.merge.ratio.FC1.5.pvalue.tsv'\n",
    "df_phospho_data = pd.read_csv(file_path, sep='\\t',header=0)\n",
    "\n",
    "col_names = df_phospho_data.columns\n",
    "col_names"
   ]
  },
  {
   "cell_type": "code",
   "execution_count": 39,
   "metadata": {},
   "outputs": [],
   "source": [
    "keep_dict = {\n",
    "    'A_E' : ['Accession', 'Description', 'Ratio.A_E', 'Ratio_base2.A_E', 'pValue.A_E', 'Sig(A_E)'],\n",
    "    'B_F' : ['Accession', 'Description', 'Ratio.B_F', 'Ratio_base2.B_F', 'pValue.B_F', 'Sig(B_F)'],\n",
    "    'C_G' : ['Accession', 'Description', 'Ratio.C_G', 'Ratio_base2.C_G', 'pValue.C_G', 'Sig(C_G)'],\n",
    "    'D_H' : ['Accession', 'Description', 'Ratio.D_H', 'Ratio_base2.D_H', 'pValue.D_H', 'Sig(D_H)'],\n",
    "    'A_B' : ['Accession', 'Description', 'Ratio.A_B', 'Ratio_base2.A_B', 'pValue.A_B', 'Sig(A_B)'],\n",
    "    'A_C' : ['Accession', 'Description', 'Ratio.A_C', 'Ratio_base2.A_C', 'pValue.A_C', 'Sig(A_C)'],\n",
    "    'B_C' : ['Accession', 'Description', 'Ratio.B_C', 'Ratio_base2.B_C', 'pValue.B_C', 'Sig(B_C)'],\n",
    "    'C_D' : ['Accession', 'Description', 'Ratio.C_D', 'Ratio_base2.C_D', 'pValue.C_D', 'Sig(C_D)'],\n",
    "    'E_F' : ['Accession', 'Description', 'Ratio.E_F', 'Ratio_base2.E_F', 'pValue.E_F', 'Sig(E_F)'],\n",
    "    'E_G' : ['Accession', 'Description', 'Ratio.E_G', 'Ratio_base2.E_G', 'pValue.E_G', 'Sig(E_G)'],\n",
    "    'F_G' : ['Accession', 'Description', 'Ratio.F_G', 'Ratio_base2.F_G', 'pValue.F_G', 'Sig(F_G)'],\n",
    "    'G_H' : ['Accession', 'Description', 'Ratio.G_H', 'Ratio_base2.G_H', 'pValue.G_H', 'Sig(G_H)'],\n",
    "}"
   ]
  },
  {
   "cell_type": "code",
   "execution_count": 43,
   "metadata": {},
   "outputs": [],
   "source": [
    "plot_dict = {}\n",
    "\n",
    "for cur_compare, cur_keep in keep_dict.items():\n",
    "\n",
    "    # split dataframe\n",
    "    df_ele = df_phospho_data[cur_keep]\n",
    "    df_ele.set_index(df_ele['Accession'])\n",
    "\n",
    "    # add -log10p and symbol: UP, DOWN, NotSig\n",
    "    df_ele['-log10(p-value)'] = -df_ele['pValue.{0}'.format(cur_compare)].apply(np.log10)\n",
    "\n",
    "    # this step will cost 2m 40 seconds for each loop, don't know why\n",
    "    condlist = [df_ele['-log10(p-value)'].gt(1.3) & df_ele['Ratio_base2.{0}'.format(cur_compare)].gt(1), df_ele['-log10(p-value)'].gt(1.3) & df_ele['Ratio_base2.{0}'.format(cur_compare)].lt(-1)]\n",
    "    choicelist = ['UP','DOWN']\n",
    "    default = 'NotSig'\n",
    "    df_ele['symbol'] = np.select(condlist=condlist, choicelist=choicelist, default=default)\n",
    "\n",
    "    plot_dict[cur_compare] = df_ele"
   ]
  },
  {
   "cell_type": "code",
   "execution_count": 45,
   "metadata": {},
   "outputs": [],
   "source": [
    "for cur_comp, df_plot in plot_dict.items():\n",
    "\n",
    "    title = cur_comp\n",
    "    fig_px = px.scatter(\n",
    "        data_frame=df_plot,\n",
    "        x=df_plot['Ratio_base2.{0}'.format(cur_comp)],\n",
    "        y=df_plot['-log10(p-value)'],\n",
    "        color=df_plot['symbol'],\n",
    "        hover_name=\"Accession\", hover_data=[\"Description\", \"Ratio_base2.{0}\".format(cur_comp),\"-log10(p-value)\"],\n",
    "        title=title,\n",
    "        opacity=0.8,\n",
    "        width=800,\n",
    "        height=1000\n",
    "    )\n",
    "    fig_px.add_hline(y=1.3,line_dash=\"dash\", line_color=\"grey\",opacity=0.6)\n",
    "    fig_px.add_vline(x=1,line_dash=\"dash\", line_color=\"grey\",opacity=0.6)\n",
    "    fig_px.add_vline(x=-1,line_dash=\"dash\", line_color=\"grey\",opacity=0.6)\n",
    "    fig_px.write_html('{0}.html'.format(title))"
   ]
  }
 ],
 "metadata": {
  "kernelspec": {
   "display_name": "Python 3.8.5 ('base')",
   "language": "python",
   "name": "python3"
  },
  "language_info": {
   "codemirror_mode": {
    "name": "ipython",
    "version": 3
   },
   "file_extension": ".py",
   "mimetype": "text/x-python",
   "name": "python",
   "nbconvert_exporter": "python",
   "pygments_lexer": "ipython3",
   "version": "3.8.5"
  },
  "orig_nbformat": 4,
  "vscode": {
   "interpreter": {
    "hash": "40d3a090f54c6569ab1632332b64b2c03c39dcf918b08424e98f38b5ae0af88f"
   }
  }
 },
 "nbformat": 4,
 "nbformat_minor": 2
}
