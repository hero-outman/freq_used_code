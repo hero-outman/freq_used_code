{
 "cells": [
  {
   "cell_type": "code",
   "execution_count": 20,
   "metadata": {},
   "outputs": [],
   "source": [
    "import pandas as pd\n",
    "import matplotlib.pyplot as plt\n",
    "\n",
    "from matplotlib_venn import venn2, venn2_circles"
   ]
  },
  {
   "cell_type": "code",
   "execution_count": 34,
   "metadata": {},
   "outputs": [],
   "source": [
    "df_candidate_gene_list_before = pd.read_excel(\n",
    "    '/Users/jplab/Desktop/2021-7/data/7-6/sorted_more_than_great_colorful.xlsx', \n",
    "    sheet_name='up', \n",
    "    header=0,\n",
    "    index_col=None\n",
    "    )\n",
    "\n",
    "df_candidate_gene_list_new =   pd.read_csv('/Users/jplab/Desktop/2022-2/data/2-21_RNA_anno_filter/FOXA1_BDT_B14ATAC_B14H3K27ac_anno_fltered.tsv',sep='\\t',header=0,index_col=None)"
   ]
  },
  {
   "cell_type": "code",
   "execution_count": 35,
   "metadata": {},
   "outputs": [],
   "source": [
    "candidate_genes_before = df_candidate_gene_list_before['symbol_y'].dropna().drop_duplicates().tolist()\n",
    "\n",
    "candidate_genes_new = df_candidate_gene_list_new['symbol'].dropna().drop_duplicates().tolist()"
   ]
  },
  {
   "cell_type": "code",
   "execution_count": 40,
   "metadata": {},
   "outputs": [],
   "source": [
    "candidate_genes_before = set(candidate_genes_before)\n",
    "\n",
    "candidate_genes_new = set(candidate_genes_new)\n",
    "\n",
    "intersection_set = set.intersection(candidate_genes_before, candidate_genes_new)\n",
    "\n",
    "intersection_list = list(intersection_set)\n",
    "\n",
    "pd.DataFrame (intersection_list, columns = ['before_and_new_matched_candidateGenes']).to_csv('/Users/jplab/Desktop/2022-2/data/2-28_candidate_gene_list_compare/before_match_new_list.tsv',sep='\\t',header=0,index=None)"
   ]
  },
  {
   "cell_type": "code",
   "execution_count": 37,
   "metadata": {},
   "outputs": [
    {
     "data": {
      "text/plain": [
       "<matplotlib_venn._common.VennDiagram at 0x7fc3b849e820>"
      ]
     },
     "execution_count": 37,
     "metadata": {},
     "output_type": "execute_result"
    },
    {
     "data": {
      "image/png": "[encoded data removed]",
      "text/plain": [
       "<Figure size 432x288 with 1 Axes>"
      ]
     },
     "metadata": {},
     "output_type": "display_data"
    }
   ],
   "source": [
    "# venn2(subsets=[len(candidate_genes_before), len(candidate_genes_new), len(intersection_list)], set_labels=('Before', 'New'))\n",
    "\n",
    "venn2([candidate_genes_before,candidate_genes_new],set_labels=('Before', 'New'))"
   ]
  }
 ],
 "metadata": {
  "interpreter": {
   "hash": "40d3a090f54c6569ab1632332b64b2c03c39dcf918b08424e98f38b5ae0af88f"
  },
  "kernelspec": {
   "display_name": "Python 3.8.5 ('base')",
   "language": "python",
   "name": "python3"
  },
  "language_info": {
   "codemirror_mode": {
    "name": "ipython",
    "version": 3
   },
   "file_extension": ".py",
   "mimetype": "text/x-python",
   "name": "python",
   "nbconvert_exporter": "python",
   "pygments_lexer": "ipython3",
   "version": "3.8.5"
  },
  "orig_nbformat": 4
 },
 "nbformat": 4,
 "nbformat_minor": 2
}
