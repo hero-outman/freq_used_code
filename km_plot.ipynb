{
 "cells": [
  {
   "cell_type": "code",
   "execution_count": 3,
   "source": [
    "# Data manipulation\n",
    "import numpy as np\n",
    "import pandas as pd\n",
    "from string import ascii_lowercase\n",
    "\n",
    "# Visualisation\n",
    "import matplotlib.pyplot as plt\n",
    "import seaborn as sns\n",
    "import matplotlib.pyplot as plt\n",
    "\n",
    "\n",
    "# Kaplan-Meier curve\n",
    "from lifelines import KaplanMeierFitter \n",
    "from sksurv.nonparametric import kaplan_meier_estimator"
   ],
   "outputs": [],
   "metadata": {}
  },
  {
   "cell_type": "code",
   "execution_count": 4,
   "source": [
    "# Create a toy dataframe\n",
    "df = pd.DataFrame(data={'duration': [3,9,5,8,7,2,1,3,4],\n",
    "                        'event': [1,0,1,0,1,0,1,0,0]}, \n",
    "                  index=list(ascii_lowercase[:9]))\n",
    "\n",
    "df2 = pd.DataFrame(data={'duration': [2,10,4,9,8,1,2,4,5], \n",
    "                        'event': [1,0,1,0,1,0,1,0,0]}, \n",
    "                        index=list(ascii_lowercase[:9]))\n",
    "\n",
    "# Prepare unique durations in ascending order\n",
    "durations = df.sort_values('duration')['duration'].unique()\n",
    "durations\n",
    "\n",
    "# Initialise the table\n",
    "columns = ['duration', 'n_at_risk', 'n_events', \n",
    "           'survival_probability']\n",
    "\n",
    "km = pd.DataFrame(columns=columns, dtype=np.number)\n",
    "km2 = pd.DataFrame(columns=columns, dtype=np.number)\n",
    "\n",
    "# count_row = df.shape[0]  # gives number of row count\n",
    "# count_col = df.shape[1]  # gives number of col count\n",
    "# count_dimension = df.shape()\n",
    "km = km.append(pd.DataFrame([[0, df.shape[0], 0, 1]], \n",
    "                            columns=columns))\n",
    "km2 = km2.append(pd.DataFrame([[0, df.shape[0], 0, 1]], \n",
    "                            columns=columns))\n",
    "\n",
    "# Calculate survival probability for each duration\n",
    "for i, t in enumerate(durations):\n",
    "    n = np.sum(df['duration']>=t)\n",
    "    d = np.sum((df['duration']==t) & (df['event']==1))\n",
    "    s = (1 - d / n) * km.loc[i, 'survival_probability']\n",
    "    km = km.append(pd.DataFrame([[t, n, d, s]], \n",
    "                                index=[i+1],\n",
    "                                columns=columns))\n",
    "    km2 = km2.append(pd.DataFrame([[t, n, d, s]], \n",
    "                                index=[i+1],\n",
    "                                columns=columns))                            \n",
    "km2"
   ],
   "outputs": [
    {
     "output_type": "execute_result",
     "data": {
      "text/html": [
       "<div>\n",
       "<style scoped>\n",
       "    .dataframe tbody tr th:only-of-type {\n",
       "        vertical-align: middle;\n",
       "    }\n",
       "\n",
       "    .dataframe tbody tr th {\n",
       "        vertical-align: top;\n",
       "    }\n",
       "\n",
       "    .dataframe thead th {\n",
       "        text-align: right;\n",
       "    }\n",
       "</style>\n",
       "<table border=\"1\" class=\"dataframe\">\n",
       "  <thead>\n",
       "    <tr style=\"text-align: right;\">\n",
       "      <th></th>\n",
       "      <th>duration</th>\n",
       "      <th>n_at_risk</th>\n",
       "      <th>n_events</th>\n",
       "      <th>survival_probability</th>\n",
       "    </tr>\n",
       "  </thead>\n",
       "  <tbody>\n",
       "    <tr>\n",
       "      <th>0</th>\n",
       "      <td>0.0</td>\n",
       "      <td>9.0</td>\n",
       "      <td>0.0</td>\n",
       "      <td>1.000000</td>\n",
       "    </tr>\n",
       "    <tr>\n",
       "      <th>1</th>\n",
       "      <td>1.0</td>\n",
       "      <td>9.0</td>\n",
       "      <td>1.0</td>\n",
       "      <td>0.888889</td>\n",
       "    </tr>\n",
       "    <tr>\n",
       "      <th>2</th>\n",
       "      <td>2.0</td>\n",
       "      <td>8.0</td>\n",
       "      <td>0.0</td>\n",
       "      <td>0.888889</td>\n",
       "    </tr>\n",
       "    <tr>\n",
       "      <th>3</th>\n",
       "      <td>3.0</td>\n",
       "      <td>7.0</td>\n",
       "      <td>1.0</td>\n",
       "      <td>0.761905</td>\n",
       "    </tr>\n",
       "    <tr>\n",
       "      <th>4</th>\n",
       "      <td>4.0</td>\n",
       "      <td>5.0</td>\n",
       "      <td>0.0</td>\n",
       "      <td>0.761905</td>\n",
       "    </tr>\n",
       "    <tr>\n",
       "      <th>5</th>\n",
       "      <td>5.0</td>\n",
       "      <td>4.0</td>\n",
       "      <td>1.0</td>\n",
       "      <td>0.571429</td>\n",
       "    </tr>\n",
       "    <tr>\n",
       "      <th>6</th>\n",
       "      <td>7.0</td>\n",
       "      <td>3.0</td>\n",
       "      <td>1.0</td>\n",
       "      <td>0.380952</td>\n",
       "    </tr>\n",
       "    <tr>\n",
       "      <th>7</th>\n",
       "      <td>8.0</td>\n",
       "      <td>2.0</td>\n",
       "      <td>0.0</td>\n",
       "      <td>0.380952</td>\n",
       "    </tr>\n",
       "    <tr>\n",
       "      <th>8</th>\n",
       "      <td>9.0</td>\n",
       "      <td>1.0</td>\n",
       "      <td>0.0</td>\n",
       "      <td>0.380952</td>\n",
       "    </tr>\n",
       "  </tbody>\n",
       "</table>\n",
       "</div>"
      ],
      "text/plain": [
       "   duration  n_at_risk  n_events  survival_probability\n",
       "0       0.0        9.0       0.0              1.000000\n",
       "1       1.0        9.0       1.0              0.888889\n",
       "2       2.0        8.0       0.0              0.888889\n",
       "3       3.0        7.0       1.0              0.761905\n",
       "4       4.0        5.0       0.0              0.761905\n",
       "5       5.0        4.0       1.0              0.571429\n",
       "6       7.0        3.0       1.0              0.380952\n",
       "7       8.0        2.0       0.0              0.380952\n",
       "8       9.0        1.0       0.0              0.380952"
      ]
     },
     "metadata": {},
     "execution_count": 4
    }
   ],
   "metadata": {}
  },
  {
   "cell_type": "code",
   "execution_count": 3,
   "source": [
    "plt.figure(figsize=(8,4))\n",
    "sns.lineplot(data=km, x='duration', y='survival_probability', \n",
    "             drawstyle='steps-post')\n",
    "plt.ylim(0,1.1) \n",
    "plt.title(\"Kaplan-Meier curve\");"
   ],
   "outputs": [
    {
     "output_type": "display_data",
     "data": {
      "image/png": "[encoded data removed]",
      "text/plain": [
       "<Figure size 576x288 with 1 Axes>"
      ]
     },
     "metadata": {
      "needs_background": "light"
     }
    }
   ],
   "metadata": {}
  },
  {
   "cell_type": "code",
   "execution_count": 26,
   "source": [
    "# using lifeline and multiple group\n",
    "ax = plt.subplot(111)\n",
    "kmf1 = KaplanMeierFitter() \n",
    "dur = df['duration']\n",
    "evet = df['event']\n",
    "ax = kmf1.fit(dur,evet,label='1').plot_survival_function(ax=ax, show_censors=True, censor_styles={'ms': 5, 'marker': '+','mfc':'cyan','mec':'cyan'})\n",
    "\n",
    "\n",
    "\n",
    "kmf2 = KaplanMeierFitter() \n",
    "dur2 = df2['duration']\n",
    "evet2 = df2['event']\n",
    "ax = kmf2.fit(dur2,evet2,label='2').plot_survival_function(ax=ax, show_censors=True, censor_styles={'ms': 3, 'marker': 's', 'mfc':'cyan','mec':'cyan'}) # matplotlib markers\n",
    "\n",
    "\n",
    "from lifelines.plotting import add_at_risk_counts\n",
    "add_at_risk_counts(kmf1, kmf2,ax=ax,fig=fig)\n",
    "plt.tight_layout()\n",
    "\n",
    "# print(kmf.event_table)\n",
    "\n",
    "# plt.figure(figsize=(8,4))\n",
    "# kmf.plot()\n",
    "# plt.title(\"Kaplan-Meier curve\");\n",
    "\n"
   ],
   "outputs": [
    {
     "output_type": "display_data",
     "data": {
      "image/png": "[encoded data removed]",
      "text/plain": [
       "<Figure size 432x288 with 2 Axes>"
      ]
     },
     "metadata": {
      "needs_background": "light"
     }
    }
   ],
   "metadata": {}
  },
  {
   "cell_type": "code",
   "execution_count": 10,
   "source": [
    "# multi group\n",
    "from lifelines.datasets import load_waltons\n",
    "waltons = load_waltons()\n",
    "T = waltons['T']\n",
    "E = waltons['E']\n",
    "waltons = load_waltons()\n",
    "ix = waltons['group'] == 'control'\n",
    "\n",
    "ax = plt.subplot(111)\n",
    "\n",
    "kmf_control = KaplanMeierFitter()\n",
    "ax = kmf_control.fit(waltons.loc[ix]['T'], waltons.loc[ix]['E'], label='control').plot_survival_function(ax=ax, show_censors=True, censor_styles={'ms': 6, 'marker': 's'})\n",
    "\n",
    "kmf_exp = KaplanMeierFitter()\n",
    "ax = kmf_exp.fit(waltons.loc[~ix]['T'], waltons.loc[~ix]['E'], label='exp').plot_survival_function(ax=ax)\n",
    "\n",
    "\n",
    "from lifelines.plotting import add_at_risk_counts\n",
    "add_at_risk_counts(kmf_exp, kmf_control, ax=ax)\n",
    "plt.tight_layout()"
   ],
   "outputs": [
    {
     "output_type": "display_data",
     "data": {
      "image/png": "[encoded data removed]",
      "text/plain": [
       "<Figure size 432x288 with 2 Axes>"
      ]
     },
     "metadata": {
      "needs_background": "light"
     }
    }
   ],
   "metadata": {}
  }
 ],
 "metadata": {
  "orig_nbformat": 4,
  "language_info": {
   "name": "python",
   "version": "3.8.5",
   "mimetype": "text/x-python",
   "codemirror_mode": {
    "name": "ipython",
    "version": 3
   },
   "pygments_lexer": "ipython3",
   "nbconvert_exporter": "python",
   "file_extension": ".py"
  },
  "kernelspec": {
   "name": "python3",
   "display_name": "Python 3.8.5 64-bit ('base': conda)"
  },
  "interpreter": {
   "hash": "dca0ade3e726a953b501b15e8e990130d2b7799f14cfd9f4271676035ebe5511"
  }
 },
 "nbformat": 4,
 "nbformat_minor": 2
}