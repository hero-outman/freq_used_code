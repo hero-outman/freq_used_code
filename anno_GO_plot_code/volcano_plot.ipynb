{
 "metadata": {
  "language_info": {
   "codemirror_mode": {
    "name": "ipython",
    "version": 3
   },
   "file_extension": ".py",
   "mimetype": "text/x-python",
   "name": "python",
   "nbconvert_exporter": "python",
   "pygments_lexer": "ipython3",
   "version": "3.8.5"
  },
  "orig_nbformat": 4,
  "kernelspec": {
   "name": "python3",
   "display_name": "Python 3.8.5 64-bit ('base': conda)"
  },
  "interpreter": {
   "hash": "dca0ade3e726a953b501b15e8e990130d2b7799f14cfd9f4271676035ebe5511"
  }
 },
 "nbformat": 4,
 "nbformat_minor": 2,
 "cells": [
  {
   "cell_type": "code",
   "execution_count": 81,
   "metadata": {},
   "outputs": [],
   "source": [
    "from glob import glob\n",
    "from math import exp\n",
    "import pandas as pd\n",
    "import numpy as np\n",
    "import os,sys\n",
    "from bioinfokit import analys, visuz\n",
    "from adjustText import adjust_text\n",
    "\n",
    "os.chdir('/Users/jplab/Desktop/2021-7/data/7-5')"
   ]
  },
  {
   "cell_type": "code",
   "execution_count": 59,
   "metadata": {},
   "outputs": [
    {
     "output_type": "stream",
     "name": "stdout",
     "text": [
      "dup removed expn number:  1719\nzscore match finished!\n"
     ]
    }
   ],
   "source": [
    "# vocano need p-value, match with deg data\n",
    "deg_expr = pd.read_csv(\"/Users/jplab/Desktop/Projects/RNA_seq_workflow/downstream/deg_2021/DEG_B14_TGFb_ALL_filtered_expr.tsv\",sep='\\t')\n",
    "\n",
    "\n",
    "# peak annotate data\n",
    "anno_data = pd.read_csv('/Users/jplab/Desktop/2021-7/data/7-1/foxa1/test.B14_FOXA1.ATACUniq.K27ac-ann10000kb.closestfasle.tsv',sep='\\t')\n",
    "# print(anno_data.head())\n",
    "\n",
    "# merge \n",
    "anno_with_expr = pd.merge(\n",
    "    anno_data,\n",
    "    deg_expr,\n",
    "    # left_on='Nearest Ensembl',\n",
    "    left_on='ensg',\n",
    "    # right_on='ensg', \n",
    "    right_on='geneid', \n",
    "    how='outer')\n",
    "anno_with_expr.head()\n",
    "# print(anno_with_expr)  \n",
    "\n",
    "\n",
    "not_null = anno_with_expr[anno_with_expr['ensg'].notnull()]\n",
    "not_null = not_null[not_null['mean_B14_2.0'].notnull()]\n",
    "not_null = not_null[not_null['geneid'].notnull()]\n",
    "# print(not_null)  \n",
    "\n",
    "not_null = not_null.drop_duplicates(subset=['ensg'])\n",
    "print('dup removed expn number: ',len(not_null.index))\n",
    "\n",
    "# add new column by abs(log2FoldChange)\n",
    "not_null['abs_log2FoldChange']=abs (not_null['log2FoldChange'])\n",
    "not_null['pvalue_with_tiny']=(not_null['pvalue'] + sys.float_info.min)\n",
    "\n",
    "# sort by padj_with_tiny and fold_change\n",
    "sorted_data = not_null.sort_values(by = ['pvalue_with_tiny', 'abs_log2FoldChange'], ascending = [True, False], na_position = 'last')\n",
    "\n",
    "# drop unwanted columns\n",
    "# unwanted = ['mean_A8301_2.0','err_A8301_2.0','err_B14_2.0','err_control_2.0','mean_Eli_2.0','err_Eli_2.0','err_TGFb_2.0'] \n",
    "# geneid_not_null = geneid_not_null.drop(unwanted,axis=1)\n",
    "# not_null.to_excel(\"FOXA1_B14_ATACB14_k27ac.annotation.deg.ATACB14uniq.xls\")\n",
    "sorted_data.to_csv(\"test.%s\" % 'B14_FOXA1.ATACUniq.K27ac-ann10000kb.withpvalue.tsv',sep='\\t',index=False) \n",
    "\n",
    "print('zscore match finished!')   \n",
    "\n",
    "# use expn's zscore to draw a volcano plot\n",
    "# expn = expression(\n",
    "#     filename='/Users/jplab/Desktop/2021-7/data/7-2/test.B14_FOXA1.ATACUniq.K27ac-ann10000kb.withpvalue.tsv', \n",
    "#     format={'force_tsv': True, 'ensg': 0, 'skiplines':0,'pvalue':20,'padj':21}, expn='[column[11], column[14]]',\n",
    "#     cond_names=[\n",
    "#     'mean_B14_2.0',\n",
    "#     'mean_TGF_2.0',\n",
    "#     ] \n",
    "# )\n",
    "\n",
    "# print('expn',expn)\n",
    "\n",
    "# print('serialisedArrayDataDict: ',expn.serialisedArrayDataDict)\n",
    "\n",
    "# print('mean_B14_2.0','mean_TGF_2.0' in expn.serialisedArrayDataDict)\n",
    "\n",
    "# print(expn.keys())\n",
    "\n",
    "# expn.volcano(\n",
    "#     condition_name='mean_B14_2.0',\n",
    "#     p_value_key='pvalue',\n",
    "#     filename='volcano_pdf'\n",
    "#     )\n",
    "\n",
    "# visuz.gene_exp.volcano(df=df, lfc='log2FC', pv='p-value', lfc_thr=(1, 2), pv_thr=(0.05, 0.01), \n",
    "#     color=(\"#00239CFF\", \"grey\", \"#E10600FF\"), plotlegend=True, legendpos='upper right', \n",
    "#     legendanchor=(1.46,1))\n",
    "\n"
   ]
  },
  {
   "cell_type": "code",
   "execution_count": 84,
   "metadata": {},
   "outputs": [
    {
     "output_type": "stream",
     "name": "stdout",
     "text": [
      "volcano plot done!!!\n"
     ]
    }
   ],
   "source": [
    "\n",
    "volca = visuz.gene_exp.volcano(\n",
    "    df=sorted_data, \n",
    "    lfc='log2FoldChange', \n",
    "    pv='pvalue_with_tiny',\n",
    "    valpha=0.5,\n",
    "    lfc_thr=(1, 1),\n",
    "    pv_thr=(0.01, 0.01),\n",
    "    sign_line=True,\n",
    "    geneid=\"ensg\", \n",
    "    genenames=({\"ENSG00000106366\":\"SERPINE1\",\"ENSG00000099994\":\"SUSD2\",\"ENSG00000130513\":\"GDF15\",\"ENSG00000129422\":\"MTUS1\",\"ENSG00000115414\":\"FN1\",\"ENSG00000124882\":\"EREG\",\"ENSG00000011028\":\"MRC2\",\"ENSG00000023839\":\"ABCC2\",\"ENSG00000111912\":\"NCOA7\",\"ENSG00000151632\":\"AKR1C2\",\"ENSG00000175727\":\"MLXIP\",\"ENSG00000198074\":\"AKR1B10\",\"ENSG00000166949\":\"SMAD3\",\"ENSG00000175115\":\"PACS1\",\"ENSG00000170558\":\"CDH2\",\"ENSG00000117984\":\"CTSD\",\"ENSG00000205336\":\"ADGRG1\",\"ENSG00000138448\":\"ITGAV\",\"ENSG00000115884\":\"SDC1\",\"ENSG00000153815\":\"CMIP\",\"ENSG00000070614\":\"NDST1\",\"ENSG00000196498\":\"NCOR2\",\"ENSG00000134107\":\"BHLHE40\",\"ENSG00000136205\":\"TNS3\",\"ENSG00000161011\":\"SQSTM1\",\"ENSG00000157168\":\"NRG1\",\"ENSG00000101255\":\"TRIB3\",\"ENSG00000143641\":\"GALNT2\",\"ENSG00000117983\":\"MUC5B\",\"ENSG00000008513\":\"ST3GAL1\",\"ENSG00000129116\":\"PALLD\",\"ENSG00000169604\":\"ANTXR1\",\"ENSG00000272398\":\"CD24\",\"ENSG00000059804\":\"SLC2A3\",\"ENSG00000074527\":\"NTN4\",\"ENSG00000131473\":\"ACLY\",\"ENSG00000146674\":\"IGFBP3\",\"ENSG00000114861\":\"FOXP1\",\"ENSG00000127948\":\"POR\",\"ENSG00000120875\":\"DUSP4\",\"ENSG00000188064\":\"WNT7B\",\"ENSG00000147010\":\"SH3KBP1\",\"ENSG00000103335\":\"PIEZO1\",\"ENSG00000142192\":\"APP\",\"ENSG00000144063\":\"MALL\",\"ENSG00000084731\":\"KIF3C\",\"ENSG00000167460\":\"TPM4\",\"ENSG00000118257\":\"NRP2\",\"ENSG00000169297\":\"NR0B1\"}),\n",
    "    gstyle=2,\n",
    "    gfont=3,\n",
    "    # show=True,\n",
    "    plotlegend=True,\n",
    "    dim=(50,20)\n",
    "    )\n",
    "\n",
    "print('volcano plot done!!!')"
   ]
  },
  {
   "cell_type": "code",
   "execution_count": null,
   "metadata": {},
   "outputs": [],
   "source": []
  }
 ]
}