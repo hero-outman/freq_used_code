{
 "metadata": {
  "language_info": {
   "codemirror_mode": {
    "name": "ipython",
    "version": 3
   },
   "file_extension": ".py",
   "mimetype": "text/x-python",
   "name": "python",
   "nbconvert_exporter": "python",
   "pygments_lexer": "ipython3",
   "version": "3.8.5"
  },
  "orig_nbformat": 2,
  "kernelspec": {
   "name": "python385jvsc74a57bd0dca0ade3e726a953b501b15e8e990130d2b7799f14cfd9f4271676035ebe5511",
   "display_name": "Python 3.8.5 64-bit ('base': conda)"
  }
 },
 "nbformat": 4,
 "nbformat_minor": 2,
 "cells": [
  {
   "cell_type": "code",
   "execution_count": 5,
   "metadata": {},
   "outputs": [],
   "source": [
    "import pandas as pd\n",
    "import os\n",
    "\n",
    "os.chdir('/Users/jplab/Desktop/cut_tag_20210611/filter_region/6-22')"
   ]
  },
  {
   "cell_type": "code",
   "execution_count": 7,
   "metadata": {},
   "outputs": [
    {
     "output_type": "execute_result",
     "data": {
      "text/plain": [
       "  PeakID (cmd=annotatePeaks.pl /Users/jplab/Desktop/cut_tag_20210611/filter_region/6-21/FOXA1_B14_ATACB14_K27ac_K4me.bed hg38)  \\\n",
       "0                        FOXA1_B14_pooled_peak_15210                                                                             \n",
       "1                        FOXA1_B14_pooled_peak_13392                                                                             \n",
       "2                         FOXA1_B14_pooled_peak_3881                                                                             \n",
       "3                        FOXA1_B14_pooled_peak_11847                                                                             \n",
       "4                        FOXA1_B14_pooled_peak_14623                                                                             \n",
       "\n",
       "     Chr      Start        End Strand  Peak Score  Focus Ratio/Region Size  \\\n",
       "0   chr7   68706133   68706739      +          81                      NaN   \n",
       "1   chr5   92944985   92946110      +         149                      NaN   \n",
       "2  chr12   60266475   60266795      +         118                      NaN   \n",
       "3   chr3  110577057  110577369      +          54                      NaN   \n",
       "4   chr6  144893180  144894081      +         155                      NaN   \n",
       "\n",
       "   Annotation        Detailed Annotation  Distance to TSS Nearest PromoterID  \\\n",
       "0  Intergenic        MamRep605|LTR?|LTR?           686183          NR_120514   \n",
       "1  Intergenic                 Intergenic           625796          NR_109825   \n",
       "2  Intergenic  Tigger3b|DNA|TcMar-Tigger           577265          NM_004731   \n",
       "3  Intergenic           LTR16E2|LTR|ERVL           492746          NR_045114   \n",
       "4  Intergenic                 Intergenic           487975          NR_132778   \n",
       "\n",
       "     Entrez ID Nearest Unigene Nearest Refseq  Nearest Ensembl     Gene Name  \\\n",
       "0  102723427.0       Hs.583491      NR_120514  ENSG00000225209  LOC102723427   \n",
       "1     441094.0       Hs.457407      NR_015369  ENSG00000237187     NR2F1-AS1   \n",
       "2       9194.0        Hs.88156      NM_004731  ENSG00000118596       SLC16A7   \n",
       "3  100506555.0       Hs.535689      NR_045114              NaN   NECTIN3-AS1   \n",
       "4  106635530.0             NaN      NR_132778              NaN       SNORA98   \n",
       "\n",
       "  Gene Alias                   Gene Description       Gene Type  \\\n",
       "0          -       uncharacterized LOC102723427           ncRNA   \n",
       "1          -              NR2F1 antisense RNA 1           ncRNA   \n",
       "2       MCT2  solute carrier family 16 member 7  protein-coding   \n",
       "3  PVRL3-AS1            NECTIN3 antisense RNA 1           ncRNA   \n",
       "4          -  small nucleolar RNA, H/ACA box 98          snoRNA   \n",
       "\n",
       "  annotation_range (Kilo base)  \n",
       "0                         >100  \n",
       "1                         >100  \n",
       "2                         >100  \n",
       "3                         >100  \n",
       "4                         >100  "
      ],
      "text/html": "<div>\n<style scoped>\n    .dataframe tbody tr th:only-of-type {\n        vertical-align: middle;\n    }\n\n    .dataframe tbody tr th {\n        vertical-align: top;\n    }\n\n    .dataframe thead th {\n        text-align: right;\n    }\n</style>\n<table border=\"1\" class=\"dataframe\">\n  <thead>\n    <tr style=\"text-align: right;\">\n      <th></th>\n      <th>PeakID (cmd=annotatePeaks.pl /Users/jplab/Desktop/cut_tag_20210611/filter_region/6-21/FOXA1_B14_ATACB14_K27ac_K4me.bed hg38)</th>\n      <th>Chr</th>\n      <th>Start</th>\n      <th>End</th>\n      <th>Strand</th>\n      <th>Peak Score</th>\n      <th>Focus Ratio/Region Size</th>\n      <th>Annotation</th>\n      <th>Detailed Annotation</th>\n      <th>Distance to TSS</th>\n      <th>Nearest PromoterID</th>\n      <th>Entrez ID</th>\n      <th>Nearest Unigene</th>\n      <th>Nearest Refseq</th>\n      <th>Nearest Ensembl</th>\n      <th>Gene Name</th>\n      <th>Gene Alias</th>\n      <th>Gene Description</th>\n      <th>Gene Type</th>\n      <th>annotation_range (Kilo base)</th>\n    </tr>\n  </thead>\n  <tbody>\n    <tr>\n      <th>0</th>\n      <td>FOXA1_B14_pooled_peak_15210</td>\n      <td>chr7</td>\n      <td>68706133</td>\n      <td>68706739</td>\n      <td>+</td>\n      <td>81</td>\n      <td>NaN</td>\n      <td>Intergenic</td>\n      <td>MamRep605|LTR?|LTR?</td>\n      <td>686183</td>\n      <td>NR_120514</td>\n      <td>102723427.0</td>\n      <td>Hs.583491</td>\n      <td>NR_120514</td>\n      <td>ENSG00000225209</td>\n      <td>LOC102723427</td>\n      <td>-</td>\n      <td>uncharacterized LOC102723427</td>\n      <td>ncRNA</td>\n      <td>&gt;100</td>\n    </tr>\n    <tr>\n      <th>1</th>\n      <td>FOXA1_B14_pooled_peak_13392</td>\n      <td>chr5</td>\n      <td>92944985</td>\n      <td>92946110</td>\n      <td>+</td>\n      <td>149</td>\n      <td>NaN</td>\n      <td>Intergenic</td>\n      <td>Intergenic</td>\n      <td>625796</td>\n      <td>NR_109825</td>\n      <td>441094.0</td>\n      <td>Hs.457407</td>\n      <td>NR_015369</td>\n      <td>ENSG00000237187</td>\n      <td>NR2F1-AS1</td>\n      <td>-</td>\n      <td>NR2F1 antisense RNA 1</td>\n      <td>ncRNA</td>\n      <td>&gt;100</td>\n    </tr>\n    <tr>\n      <th>2</th>\n      <td>FOXA1_B14_pooled_peak_3881</td>\n      <td>chr12</td>\n      <td>60266475</td>\n      <td>60266795</td>\n      <td>+</td>\n      <td>118</td>\n      <td>NaN</td>\n      <td>Intergenic</td>\n      <td>Tigger3b|DNA|TcMar-Tigger</td>\n      <td>577265</td>\n      <td>NM_004731</td>\n      <td>9194.0</td>\n      <td>Hs.88156</td>\n      <td>NM_004731</td>\n      <td>ENSG00000118596</td>\n      <td>SLC16A7</td>\n      <td>MCT2</td>\n      <td>solute carrier family 16 member 7</td>\n      <td>protein-coding</td>\n      <td>&gt;100</td>\n    </tr>\n    <tr>\n      <th>3</th>\n      <td>FOXA1_B14_pooled_peak_11847</td>\n      <td>chr3</td>\n      <td>110577057</td>\n      <td>110577369</td>\n      <td>+</td>\n      <td>54</td>\n      <td>NaN</td>\n      <td>Intergenic</td>\n      <td>LTR16E2|LTR|ERVL</td>\n      <td>492746</td>\n      <td>NR_045114</td>\n      <td>100506555.0</td>\n      <td>Hs.535689</td>\n      <td>NR_045114</td>\n      <td>NaN</td>\n      <td>NECTIN3-AS1</td>\n      <td>PVRL3-AS1</td>\n      <td>NECTIN3 antisense RNA 1</td>\n      <td>ncRNA</td>\n      <td>&gt;100</td>\n    </tr>\n    <tr>\n      <th>4</th>\n      <td>FOXA1_B14_pooled_peak_14623</td>\n      <td>chr6</td>\n      <td>144893180</td>\n      <td>144894081</td>\n      <td>+</td>\n      <td>155</td>\n      <td>NaN</td>\n      <td>Intergenic</td>\n      <td>Intergenic</td>\n      <td>487975</td>\n      <td>NR_132778</td>\n      <td>106635530.0</td>\n      <td>NaN</td>\n      <td>NR_132778</td>\n      <td>NaN</td>\n      <td>SNORA98</td>\n      <td>-</td>\n      <td>small nucleolar RNA, H/ACA box 98</td>\n      <td>snoRNA</td>\n      <td>&gt;100</td>\n    </tr>\n  </tbody>\n</table>\n</div>"
     },
     "metadata": {},
     "execution_count": 7
    }
   ],
   "source": [
    "'''\n",
    "combine peak annotate file with expression data or DEG data by geneid\n",
    "this step can be done by hommer annotate_peak script by providing a expression data, \n",
    "but in some situations will throw issuse that not all expression data could be added\n",
    "'''\n",
    "\n",
    "# peak annotate data\n",
    "# pd.read_csv read tsv file: add param sep='\\t'\n",
    "# foxa1_10kb_B14open_exp = pd.read_csv(\"./motif_anno/FOXA1.10kb.B14open.tsv\", sep='\\t')\n",
    "# foxa1_10kb_B14open_exp.head()\n",
    "\n",
    "# nr4a1_10kb_B14open_anno = pd.read_csv(\" /Users/jplab/Desktop/B14_uniq_open/0315/B14open.FOXA1.default_size.anno.motif.motifnum.xlsx\",sep='\\t')\n",
    "# nr4a1_10kb_B14open_anno.head()\n",
    "\n",
    "foxa1_B14_ATACB14_K27ac_K4me_anno = pd.read_excel(\"/Users/jplab/Desktop/cut_tag_20210611/filter_region/6-21/FOXA1_B14_ATACB14_K27ac_K4me.homer_anno.xlsx\",engine='openpyxl')\n",
    "foxa1_B14_ATACB14_K27ac_K4me_anno.head()"
   ]
  },
  {
   "cell_type": "code",
   "execution_count": 9,
   "metadata": {},
   "outputs": [
    {
     "output_type": "execute_result",
     "data": {
      "text/plain": [
       "              ensg  B14_2.0 rp1  B14_2.0 rp2  control rp1  control rp2  \\\n",
       "0  ENSG00000223972            0            0            0            0   \n",
       "1  ENSG00000227232           73           73           40           63   \n",
       "2  ENSG00000278267            1            3            1            0   \n",
       "3  ENSG00000243485            1            0            0            1   \n",
       "4  ENSG00000284332            0            0            0            0   \n",
       "\n",
       "   TGFb rp1  TGFb rp2  \n",
       "0         2         0  \n",
       "1        58        83  \n",
       "2         2         2  \n",
       "3         0         0  \n",
       "4         0         0  "
      ],
      "text/html": "<div>\n<style scoped>\n    .dataframe tbody tr th:only-of-type {\n        vertical-align: middle;\n    }\n\n    .dataframe tbody tr th {\n        vertical-align: top;\n    }\n\n    .dataframe thead th {\n        text-align: right;\n    }\n</style>\n<table border=\"1\" class=\"dataframe\">\n  <thead>\n    <tr style=\"text-align: right;\">\n      <th></th>\n      <th>ensg</th>\n      <th>B14_2.0 rp1</th>\n      <th>B14_2.0 rp2</th>\n      <th>control rp1</th>\n      <th>control rp2</th>\n      <th>TGFb rp1</th>\n      <th>TGFb rp2</th>\n    </tr>\n  </thead>\n  <tbody>\n    <tr>\n      <th>0</th>\n      <td>ENSG00000223972</td>\n      <td>0</td>\n      <td>0</td>\n      <td>0</td>\n      <td>0</td>\n      <td>2</td>\n      <td>0</td>\n    </tr>\n    <tr>\n      <th>1</th>\n      <td>ENSG00000227232</td>\n      <td>73</td>\n      <td>73</td>\n      <td>40</td>\n      <td>63</td>\n      <td>58</td>\n      <td>83</td>\n    </tr>\n    <tr>\n      <th>2</th>\n      <td>ENSG00000278267</td>\n      <td>1</td>\n      <td>3</td>\n      <td>1</td>\n      <td>0</td>\n      <td>2</td>\n      <td>2</td>\n    </tr>\n    <tr>\n      <th>3</th>\n      <td>ENSG00000243485</td>\n      <td>1</td>\n      <td>0</td>\n      <td>0</td>\n      <td>1</td>\n      <td>0</td>\n      <td>0</td>\n    </tr>\n    <tr>\n      <th>4</th>\n      <td>ENSG00000284332</td>\n      <td>0</td>\n      <td>0</td>\n      <td>0</td>\n      <td>0</td>\n      <td>0</td>\n      <td>0</td>\n    </tr>\n  </tbody>\n</table>\n</div>"
     },
     "metadata": {},
     "execution_count": 9
    }
   ],
   "source": [
    "# RNA DEG data\n",
    "b14_tgf_control_rawcounts = pd.read_csv(\"/Users/jplab/Desktop/cut_tag_20210611/filter_region/6-22/2umol.BCT.raw.counts.tsv\",sep='\\t')\n",
    "\n",
    "# unwanted = ['mean_A8301_2.0','err_A8301_2.0','err_B14_2.0','err_control_2.0','mean_Eli_2.0','err_Eli_2.0','err_TGFb_2.0'] \n",
    "# B14_TGFb_All_DEG = B14_TGFb_All_DEG.drop(unwanted,axis=1)\n",
    "b14_tgf_control_rawcounts.head()"
   ]
  },
  {
   "cell_type": "code",
   "execution_count": 10,
   "metadata": {},
   "outputs": [
    {
     "output_type": "stream",
     "name": "stdout",
     "text": [
      "61611\n"
     ]
    },
    {
     "output_type": "execute_result",
     "data": {
      "text/plain": [
       "  PeakID (cmd=annotatePeaks.pl /Users/jplab/Desktop/cut_tag_20210611/filter_region/6-21/FOXA1_B14_ATACB14_K27ac_K4me.bed hg38)  \\\n",
       "0                        FOXA1_B14_pooled_peak_15210                                                                             \n",
       "1                        FOXA1_B14_pooled_peak_13392                                                                             \n",
       "2                         FOXA1_B14_pooled_peak_3881                                                                             \n",
       "3                        FOXA1_B14_pooled_peak_11847                                                                             \n",
       "4                        FOXA1_B14_pooled_peak_14623                                                                             \n",
       "\n",
       "     Chr        Start          End Strand  Peak Score  \\\n",
       "0   chr7   68706133.0   68706739.0      +        81.0   \n",
       "1   chr5   92944985.0   92946110.0      +       149.0   \n",
       "2  chr12   60266475.0   60266795.0      +       118.0   \n",
       "3   chr3  110577057.0  110577369.0      +        54.0   \n",
       "4   chr6  144893180.0  144894081.0      +       155.0   \n",
       "\n",
       "   Focus Ratio/Region Size  Annotation        Detailed Annotation  \\\n",
       "0                      NaN  Intergenic        MamRep605|LTR?|LTR?   \n",
       "1                      NaN  Intergenic                 Intergenic   \n",
       "2                      NaN  Intergenic  Tigger3b|DNA|TcMar-Tigger   \n",
       "3                      NaN  Intergenic           LTR16E2|LTR|ERVL   \n",
       "4                      NaN  Intergenic                 Intergenic   \n",
       "\n",
       "   Distance to TSS  ...                   Gene Description       Gene Type  \\\n",
       "0         686183.0  ...       uncharacterized LOC102723427           ncRNA   \n",
       "1         625796.0  ...              NR2F1 antisense RNA 1           ncRNA   \n",
       "2         577265.0  ...  solute carrier family 16 member 7  protein-coding   \n",
       "3         492746.0  ...            NECTIN3 antisense RNA 1           ncRNA   \n",
       "4         487975.0  ...  small nucleolar RNA, H/ACA box 98          snoRNA   \n",
       "\n",
       "  annotation_range (Kilo base)             ensg B14_2.0 rp1 B14_2.0 rp2  \\\n",
       "0                         >100  ENSG00000225209           0           0   \n",
       "1                         >100  ENSG00000237187          37          54   \n",
       "2                         >100  ENSG00000118596         482         442   \n",
       "3                         >100              NaN           0           0   \n",
       "4                         >100              NaN           0           0   \n",
       "\n",
       "  control rp1 control rp2 TGFb rp1 TGFb rp2  \n",
       "0           0           0        0        0  \n",
       "1          67          71      107       88  \n",
       "2         332         296       86       90  \n",
       "3           0           0        0        0  \n",
       "4           0           0        0        0  \n",
       "\n",
       "[5 rows x 27 columns]"
      ],
      "text/html": "<div>\n<style scoped>\n    .dataframe tbody tr th:only-of-type {\n        vertical-align: middle;\n    }\n\n    .dataframe tbody tr th {\n        vertical-align: top;\n    }\n\n    .dataframe thead th {\n        text-align: right;\n    }\n</style>\n<table border=\"1\" class=\"dataframe\">\n  <thead>\n    <tr style=\"text-align: right;\">\n      <th></th>\n      <th>PeakID (cmd=annotatePeaks.pl /Users/jplab/Desktop/cut_tag_20210611/filter_region/6-21/FOXA1_B14_ATACB14_K27ac_K4me.bed hg38)</th>\n      <th>Chr</th>\n      <th>Start</th>\n      <th>End</th>\n      <th>Strand</th>\n      <th>Peak Score</th>\n      <th>Focus Ratio/Region Size</th>\n      <th>Annotation</th>\n      <th>Detailed Annotation</th>\n      <th>Distance to TSS</th>\n      <th>...</th>\n      <th>Gene Description</th>\n      <th>Gene Type</th>\n      <th>annotation_range (Kilo base)</th>\n      <th>ensg</th>\n      <th>B14_2.0 rp1</th>\n      <th>B14_2.0 rp2</th>\n      <th>control rp1</th>\n      <th>control rp2</th>\n      <th>TGFb rp1</th>\n      <th>TGFb rp2</th>\n    </tr>\n  </thead>\n  <tbody>\n    <tr>\n      <th>0</th>\n      <td>FOXA1_B14_pooled_peak_15210</td>\n      <td>chr7</td>\n      <td>68706133.0</td>\n      <td>68706739.0</td>\n      <td>+</td>\n      <td>81.0</td>\n      <td>NaN</td>\n      <td>Intergenic</td>\n      <td>MamRep605|LTR?|LTR?</td>\n      <td>686183.0</td>\n      <td>...</td>\n      <td>uncharacterized LOC102723427</td>\n      <td>ncRNA</td>\n      <td>&gt;100</td>\n      <td>ENSG00000225209</td>\n      <td>0</td>\n      <td>0</td>\n      <td>0</td>\n      <td>0</td>\n      <td>0</td>\n      <td>0</td>\n    </tr>\n    <tr>\n      <th>1</th>\n      <td>FOXA1_B14_pooled_peak_13392</td>\n      <td>chr5</td>\n      <td>92944985.0</td>\n      <td>92946110.0</td>\n      <td>+</td>\n      <td>149.0</td>\n      <td>NaN</td>\n      <td>Intergenic</td>\n      <td>Intergenic</td>\n      <td>625796.0</td>\n      <td>...</td>\n      <td>NR2F1 antisense RNA 1</td>\n      <td>ncRNA</td>\n      <td>&gt;100</td>\n      <td>ENSG00000237187</td>\n      <td>37</td>\n      <td>54</td>\n      <td>67</td>\n      <td>71</td>\n      <td>107</td>\n      <td>88</td>\n    </tr>\n    <tr>\n      <th>2</th>\n      <td>FOXA1_B14_pooled_peak_3881</td>\n      <td>chr12</td>\n      <td>60266475.0</td>\n      <td>60266795.0</td>\n      <td>+</td>\n      <td>118.0</td>\n      <td>NaN</td>\n      <td>Intergenic</td>\n      <td>Tigger3b|DNA|TcMar-Tigger</td>\n      <td>577265.0</td>\n      <td>...</td>\n      <td>solute carrier family 16 member 7</td>\n      <td>protein-coding</td>\n      <td>&gt;100</td>\n      <td>ENSG00000118596</td>\n      <td>482</td>\n      <td>442</td>\n      <td>332</td>\n      <td>296</td>\n      <td>86</td>\n      <td>90</td>\n    </tr>\n    <tr>\n      <th>3</th>\n      <td>FOXA1_B14_pooled_peak_11847</td>\n      <td>chr3</td>\n      <td>110577057.0</td>\n      <td>110577369.0</td>\n      <td>+</td>\n      <td>54.0</td>\n      <td>NaN</td>\n      <td>Intergenic</td>\n      <td>LTR16E2|LTR|ERVL</td>\n      <td>492746.0</td>\n      <td>...</td>\n      <td>NECTIN3 antisense RNA 1</td>\n      <td>ncRNA</td>\n      <td>&gt;100</td>\n      <td>NaN</td>\n      <td>0</td>\n      <td>0</td>\n      <td>0</td>\n      <td>0</td>\n      <td>0</td>\n      <td>0</td>\n    </tr>\n    <tr>\n      <th>4</th>\n      <td>FOXA1_B14_pooled_peak_14623</td>\n      <td>chr6</td>\n      <td>144893180.0</td>\n      <td>144894081.0</td>\n      <td>+</td>\n      <td>155.0</td>\n      <td>NaN</td>\n      <td>Intergenic</td>\n      <td>Intergenic</td>\n      <td>487975.0</td>\n      <td>...</td>\n      <td>small nucleolar RNA, H/ACA box 98</td>\n      <td>snoRNA</td>\n      <td>&gt;100</td>\n      <td>NaN</td>\n      <td>0</td>\n      <td>0</td>\n      <td>0</td>\n      <td>0</td>\n      <td>0</td>\n      <td>0</td>\n    </tr>\n  </tbody>\n</table>\n<p>5 rows × 27 columns</p>\n</div>"
     },
     "metadata": {},
     "execution_count": 10
    }
   ],
   "source": [
    "# merge two dataframe\n",
    "merged_outer = pd.merge(foxa1_B14_ATACB14_K27ac_K4me_anno,b14_tgf_control_rawcounts,left_on='Nearest Ensembl',right_on='ensg', how='outer')\n",
    "\n",
    "print(len(merged_outer.index))\n",
    "\n",
    "merged_outer.head()"
   ]
  },
  {
   "cell_type": "code",
   "execution_count": 17,
   "metadata": {},
   "outputs": [
    {
     "output_type": "stream",
     "name": "stdout",
     "text": [
      "2529\n"
     ]
    }
   ],
   "source": [
    "# select rows\n",
    "merged_outer = merged_outer[merged_outer['ensg'].notnull()]\n",
    "merged_outer = merged_outer[merged_outer['Nearest Ensembl'].notnull()]\n",
    "\n",
    "print(len(merged_outer.index))\n",
    "merged_outer.to_excel(\"Foxa1_B14_ATACB14_K27ac_K4me_anno.xlsx\",index=False)\n",
    "# merged_outer.to_csv(\"NF1_B14_default_size_DEG_matched.tsv\",sep='\\t')"
   ]
  },
  {
   "cell_type": "code",
   "execution_count": null,
   "metadata": {},
   "outputs": [],
   "source": [
    "# results got from there has more rows than results got from homer annotatepeak tools\n",
    "# try to find the different rows between those two files\n",
    "homer_result = pd.read_csv(\"./NR4A1_DEG_expression/NR4A1.B14_openclus_10kb_anno_with_DEG_only_matched.tsv\",sep='\\t')\n",
    "manual_result = pd.read_csv(\"./NR4A1_DEG_expression/NR4A1_B14_10kb_DEG_matched.tsv\",sep='\\t')\n",
    "print(\"homer_result lenght: \",len(homer_result.index),\" manual_result lenght:\",len(manual_result.index))\n",
    "\n",
    "extra = manual_result[~manual_result['geneid'].isin(homer_result['geneid'])]\n",
    "print(\"extra: \",len(extra.index))\n",
    "\n",
    "extra.to_csv(\"NR4A1_homer_to_manual_extra.tsv\",sep='\\t')"
   ]
  }
 ]
}