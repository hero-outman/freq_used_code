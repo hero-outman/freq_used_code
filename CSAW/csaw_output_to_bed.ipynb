{
 "cells": [
  {
   "cell_type": "markdown",
   "metadata": {},
   "source": [
    "### CSAW output to bed\n",
    "* convert CSAW output to bed file(chromosome, start, end)\n",
    "* split to UP or DOWN\n",
    "* with pvalue or other params"
   ]
  },
  {
   "cell_type": "code",
   "execution_count": 1,
   "metadata": {},
   "outputs": [],
   "source": [
    "import os, glob\n",
    "import pandas as pd\n",
    "\n",
    "os.chdir('/Users/jplab/Desktop/DAILY_CODE_DATA/2022-4/data/4-13_ATAC_shnc_csaw/')"
   ]
  },
  {
   "cell_type": "code",
   "execution_count": 2,
   "metadata": {},
   "outputs": [],
   "source": [
    "csaw_out_files = glob.glob('/Users/jplab/Desktop/DAILY_CODE_DATA/2022-4/data/4-13_ATAC_shnc_csaw/*.tsv')"
   ]
  },
  {
   "cell_type": "markdown",
   "metadata": {},
   "source": [
    "## bed format descript by homer\n",
    "> BED files should have at minimum 6 columns (separated by TABs, additional columns will be ignored)\n",
    "* Column1: chromosome\n",
    "* Column2: starting position\n",
    "* Column3: ending position\n",
    "* Column4: Unique Peak ID\n",
    "* Column5: not used\n",
    "* Column6: Strand (+/- or 0/1, where 0=\"+\", 1=\"-\")\n",
    "In theory, HOMER will accept BED files with only 4 columns (+/- in the 4th column), and files without unique IDs, but this is NOT recommended.  For one, if you don't have unique IDs for your regions, it's hard to go back and figure out which region contains which peak.\n",
    "\n",
    "## so I will add logcpm at col5 and up_down pvalue fdr fc at col6,7,8,9"
   ]
  },
  {
   "cell_type": "code",
   "execution_count": 8,
   "metadata": {},
   "outputs": [],
   "source": [
    "for csaw_out in csaw_out_files:\n",
    "    file_name = os.path.basename(csaw_out)\n",
    "    file_name = file_name.replace('.tsv', '')\n",
    "\n",
    "    # read to dataframe\n",
    "    df_csaw_out = pd.read_csv(csaw_out, sep='\\t',header=0)\n",
    "    # filter pvalue\n",
    "    df_csaw_p005 = df_csaw_out[df_csaw_out['PValue'] <= 0.05]\n",
    "    # then up and down\n",
    "    df_csaw_up = df_csaw_p005[df_csaw_p005['direction'] == 'up']\n",
    "    df_csaw_down = df_csaw_p005[df_csaw_p005['direction'] == 'down']\n",
    "    df_csaw_up.name = file_name + '_up'\n",
    "    df_csaw_down.name = file_name + '_down'\n",
    "    df_csaw_p005.name = file_name + '_all'\n",
    "    df_csaw_out.name = file_name + '_all_noPsig'\n",
    "    # put into list\n",
    "    up_down_list = [df_csaw_up, df_csaw_down,df_csaw_p005,df_csaw_out]\n",
    "\n",
    "    # save to bed file\n",
    "    for df in up_down_list:\n",
    "        save_as = '.p005.bed'\n",
    "        if df.name.endswith('_up'):\n",
    "            save_as = df.name + save_as\n",
    "        if df.name.endswith('_down'):\n",
    "            save_as = df.name + save_as\n",
    "        if df.name.endswith('_all'):\n",
    "            save_as = df.name + save_as\n",
    "        if df.name.endswith('_all_noPsig'):\n",
    "            save_as = df.name + '.bed'     \n",
    "        # print(save_as)\n",
    "\n",
    "        # write bed file as bed format above, at least 4 columns for homer motif analysis    \n",
    "        with open(save_as, 'w') as f:\n",
    "            for index, row in df.iterrows():\n",
    "                f.write(\n",
    "                        # chr\n",
    "                        row['seqnames'] + '\\t' \\\n",
    "                        # start\n",
    "                        + str(row['start']) + '\\t' \\\n",
    "                        # end\n",
    "                        + str(row['end']) + '\\t' \\\n",
    "                        # uniq_peak_id\n",
    "                        + '{0}_{1}_{2}_{3}_{4}'.format(file_name, row['seqnames'], str(row['start']), str(row['end']), row['direction']) + '\\t' \\\n",
    "                        # score: logcpm\n",
    "                        + str(row['logCPM']) +  '\\t' \\\n",
    "                        # strand\n",
    "                        + row['strand'] + '\\t' \\\n",
    "                        # up_down pvalue fdr fc\n",
    "                        + '{0}_p{1}_q{2}_logFC{3}'.format(row['direction'], str(row['PValue']),str(row['FDR']), str(row['logFC'])) + '\\n'\n",
    "                    )"
   ]
  }
 ],
 "metadata": {
  "interpreter": {
   "hash": "40d3a090f54c6569ab1632332b64b2c03c39dcf918b08424e98f38b5ae0af88f"
  },
  "kernelspec": {
   "display_name": "Python 3.8.5 ('base')",
   "language": "python",
   "name": "python3"
  },
  "language_info": {
   "codemirror_mode": {
    "name": "ipython",
    "version": 3
   },
   "file_extension": ".py",
   "mimetype": "text/x-python",
   "name": "python",
   "nbconvert_exporter": "python",
   "pygments_lexer": "ipython3",
   "version": "3.8.5"
  },
  "orig_nbformat": 4
 },
 "nbformat": 4,
 "nbformat_minor": 2
}
