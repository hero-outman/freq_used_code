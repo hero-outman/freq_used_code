{
 "cells": [
  {
   "cell_type": "markdown",
   "metadata": {},
   "source": [
    "# use GSEAPY replot GSEA desktop figrures\n",
    "## manual \n",
    "* https://buildmedia.readthedocs.org/media/pdf/gseapy/latest/gseapy.pdf"
   ]
  },
  {
   "cell_type": "code",
   "execution_count": 16,
   "metadata": {},
   "outputs": [],
   "source": [
    "import pandas as pd\n",
    "import glob, os, subprocess, sys, logging\n",
    "import gseapy as gp\n",
    "\n",
    "from gseapy.plot import gseaplot\n",
    "\n",
    "from alive_progress import alive_bar\n",
    "\n",
    "wk_dir = '/Users/jplab/Desktop/DAILY_CODE_DATA/2022-3/data/3-18_GSEApy_replot/'\n",
    "os.chdir(wk_dir)"
   ]
  },
  {
   "cell_type": "markdown",
   "metadata": {},
   "source": [
    "### note1: replot module need to find edb folder to work properly. keep the file tree like this:\n",
    "### note2: source code use `*/edb/results.edb` to find ebd result, so need provide path based on this\n",
    "\n",
    "```\n",
    "data\n",
    " |--- edb\n",
    " |    |--- C1OE.cls\n",
    " |    |--- gene_sets.gmt\n",
    " |    |--- gsea_data.gsea_data.rnk\n",
    " |    |--- results.edb\n",
    " ```\n",
    " \n",
    "### note3: pos_pheno and neg_pheno name based on .cls file, so need have cls file include good name\n",
    " ```\n",
    " 4 2 1\n",
    "# ncFOXA1_B1.14 shFOXA1_B1.14\n",
    "ncFOXA1_B1.14 ncFOXA1_B1.14 shFOXA1_B1.14 shFOXA1_B1.14\n",
    "```"
   ]
  },
  {
   "cell_type": "code",
   "execution_count": 17,
   "metadata": {},
   "outputs": [],
   "source": [
    "gsea_edb_path = '/Users/jplab/gsea_home/output/mar17/'"
   ]
  },
  {
   "cell_type": "code",
   "execution_count": 18,
   "metadata": {},
   "outputs": [
    {
     "name": "stderr",
     "output_type": "stream",
     "text": [
      "2022-03-18 10:54:38,446 Congratulations! Your plots have been reproduced successfully!\n",
      "\n"
     ]
    }
   ],
   "source": [
    "# run command inside python console\n",
    "rep = gp.replot(\n",
    "    indir=gsea_edb_path, \n",
    "    outdir=wk_dir,\n",
    "    format='png',\n",
    "    verbose=True)"
   ]
  }
 ],
 "metadata": {
  "interpreter": {
   "hash": "40d3a090f54c6569ab1632332b64b2c03c39dcf918b08424e98f38b5ae0af88f"
  },
  "kernelspec": {
   "display_name": "Python 3.8.5 64-bit ('base': conda)",
   "name": "python3"
  },
  "language_info": {
   "codemirror_mode": {
    "name": "ipython",
    "version": 3
   },
   "file_extension": ".py",
   "mimetype": "text/x-python",
   "name": "python",
   "nbconvert_exporter": "python",
   "pygments_lexer": "ipython3",
   "version": "3.8.5"
  },
  "orig_nbformat": 4
 },
 "nbformat": 4,
 "nbformat_minor": 2
}
