{
 "cells": [
  {
   "cell_type": "code",
   "execution_count": 1,
   "metadata": {},
   "outputs": [],
   "source": [
    "import pandas as pd\n",
    "import gseapy as gp\n",
    "import matplotlib.pyplot as plt\n",
    "import time\n",
    "from gseapy.plot import barplot, dotplot\n",
    "\n",
    "wk_dir = '/Users/jplab/Desktop/DAILY_CODE_DATA/2022-4/data/4-20_enrichr_plot/'"
   ]
  },
  {
   "cell_type": "code",
   "execution_count": 2,
   "metadata": {},
   "outputs": [],
   "source": [
    "# add file path\n",
    "# add df.name\n",
    "# append to list\n",
    "# DEG_kd_B14_vs_TGFb = '/Users/jplab/Desktop/RNA_seq_FOXA1KO_scramble_20211213/downstream/data/raw_count_flow/deg/DEG_kd_B14_vs_TGFb.tsv'\n",
    "# DEG_nc_B14_vs_TGFb = '/Users/jplab/Desktop/RNA_seq_FOXA1KO_scramble_20211213/downstream/data/raw_count_flow/deg/DEG_nc_B14_vs_TGFb.tsv'\n",
    "# DEG_2d_data = '/Users/jplab/Desktop/2021-12/data/12-29_2d_rna_deg/2umol_B14_vs_TGFb_DEG.tsv'\n",
    "\n",
    "DEG_B14_KD_vs_NC = '/Users/jplab/Desktop/snakepipes_Data/results_mRNA_seq_FOXA1_KD_NC_2022221/DESeq2_samplesheet_FOXA1-B14-NCvsKD/DEseq_basic_DEresults_counts_DESeq2.normalized_gt10_noVersion.tsv'\n",
    "# DEG_TGF_KD_vs_NC = '/Users/jplab/Desktop/snakepipes_Data/results_mRNA_seq_FOXA1_KD_NC_2022221/DESeq2_samplesheet_FOXA1-TGFb-NCvsKD/DEseq_basic_DEresults_counts_DESeq2.normalized_noVersion.tsv'\n",
    "\n",
    "\n",
    "df_B14_KD_vs_NC= pd.read_csv(DEG_B14_KD_vs_NC,header=0, sep=\"\\t\",index_col=False).dropna()\n",
    "df_B14_KD_vs_NC.name = 'df_B14_KD_vs_NC'\n",
    "\n",
    "# df_TGF_KD_vs_NC= pd.read_csv(DEG_B14_KD_vs_NC,header=0, sep=\"\\t\",index_col=False).dropna()\n",
    "# df_TGF_KD_vs_NC.name = 'df_TGF_KD_vs_NC'\n",
    "\n",
    "# df_TGF_KD_vs_NC= pd.read_csv(DEG_B14_KD_vs_NC,header=0, sep=\"\\t\",index_col=False).dropna()\n",
    "# df_TGF_KD_vs_NC.name = 'df_TGF_KD_vs_NC'\n",
    "# df_TGF_KD_vs_NC = pd.read_csv(DEG_TGF_KD_vs_NC,header=0, sep=\"\\t\",index_col=False).dropna()\n",
    "# df_TGF_KD_vs_NC.name = 'df_TGF_KD_vs_NC'\n",
    "# df_2d_data = pd.read_csv(DEG_2d_data,header=0, sep=\"\\t\",index_col=False)\n",
    "# df_2d_data.name = 'df_2d_data'\n",
    "\n",
    "df_list = []\n",
    "# df_list.append(df_B14_KD_vs_NC)\n",
    "df_list.append(df_B14_KD_vs_NC)\n",
    "# df_list.append(df_2d_data)\n"
   ]
  },
  {
   "cell_type": "code",
   "execution_count": 6,
   "metadata": {},
   "outputs": [
    {
     "name": "stdout",
     "output_type": "stream",
     "text": [
      "df_B14_KD_vs_NC\n",
      "dict_keys(['df_B14_KD_vs_NC_UP_genes'])\n",
      "df_B14_KD_vs_NC_UP_genes: 0 rows of dup are dropped\n",
      "df_B14_KD_vs_NC_UP_genes: 0 rows of NA are dropped\n"
     ]
    }
   ],
   "source": [
    "# first use dict to save loop filter results\n",
    "dict = {}\n",
    "for df in df_list:\n",
    "    print(df.name)\n",
    "    df_name = df.name\n",
    "\n",
    "    # dict[df_name + '_UP.LOGFC0.3_genes'] = df.query(\"log2FoldChange >= 0.3\")\n",
    "    dict[df_name + '_UP_genes'] = df.query(\"Status == 'UP'\")\n",
    "\n",
    "    # dict[df_name + '_DOWN_genes'] = df.query(\"Status == 'DOWN'\")\n",
    "    # dict[df_name + '_UP_and_DOWN_genes'] = df.query(\"Status == 'UP' or Status == 'DOWN'\")\n",
    "    # dict[df_name + '_UP_DOWN_NONE_genes'] = df.query(\"Status == 'UP' or Status == 'DOWN' or Status == 'None'\")\n",
    "print(dict.keys())\n",
    "\n",
    "# then loop dict\n",
    "dict_gene_list = {}\n",
    "for df_name, df in dict.items():\n",
    "    # sort by fold change\n",
    "    df = df.sort_values(by=['log2FoldChange'], ascending=False)\n",
    "\n",
    "    # drop dup in symbol column\n",
    "    df_ori_row_num = len(df.index)\n",
    "    df = df.drop_duplicates(subset=['external_gene_name'], keep='first')\n",
    "    df_dupDrop_row_num = len(df.index)\n",
    "    print(df_name + ': ' + str(df_ori_row_num - df_dupDrop_row_num) + ' rows of dup are dropped')\n",
    "\n",
    "    # must drop na, or will throw error in enrichr method\n",
    "    df = df['external_gene_name'].dropna()\n",
    "    df_dropNa_row_num = len(df.index)\n",
    "    print(df_name + ': ' + str(df_dupDrop_row_num - df_dropNa_row_num) + ' rows of NA are dropped')\n",
    "\n",
    "    # convert to list\n",
    "    dict_gene_list[df_name.split('df_')[1]] = df.tolist()\n",
    "\n"
   ]
  },
  {
   "cell_type": "code",
   "execution_count": 4,
   "metadata": {},
   "outputs": [
    {
     "name": "stdout",
     "output_type": "stream",
     "text": [
      "['ARCHS4_Cell-lines', 'ARCHS4_IDG_Coexp', 'ARCHS4_Kinases_Coexp', 'ARCHS4_TFs_Coexp', 'ARCHS4_Tissues', 'Achilles_fitness_decrease', 'Achilles_fitness_increase', 'Aging_Perturbations_from_GEO_down', 'Aging_Perturbations_from_GEO_up', 'Allen_Brain_Atlas_10x_scRNA_2021', 'Allen_Brain_Atlas_down', 'Allen_Brain_Atlas_up', 'Azimuth_Cell_Types_2021', 'BioCarta_2013', 'BioCarta_2015', 'BioCarta_2016', 'BioPlanet_2019', 'BioPlex_2017', 'CCLE_Proteomics_2020', 'CORUM', 'COVID-19_Related_Gene_Sets', 'COVID-19_Related_Gene_Sets_2021', 'Cancer_Cell_Line_Encyclopedia', 'CellMarker_Augmented_2021', 'ChEA_2013', 'ChEA_2015', 'ChEA_2016', 'Chromosome_Location', 'Chromosome_Location_hg19', 'ClinVar_2019', 'DSigDB', 'Data_Acquisition_Method_Most_Popular_Genes', 'DepMap_WG_CRISPR_Screens_Broad_CellLines_2019', 'DepMap_WG_CRISPR_Screens_Sanger_CellLines_2019', 'Descartes_Cell_Types_and_Tissue_2021', 'DisGeNET', 'Disease_Perturbations_from_GEO_down', 'Disease_Perturbations_from_GEO_up', 'Disease_Signatures_from_GEO_down_2014', 'Disease_Signatures_from_GEO_up_2014', 'DrugMatrix', 'Drug_Perturbations_from_GEO_2014', 'Drug_Perturbations_from_GEO_down', 'Drug_Perturbations_from_GEO_up', 'ENCODE_Histone_Modifications_2013', 'ENCODE_Histone_Modifications_2015', 'ENCODE_TF_ChIP-seq_2014', 'ENCODE_TF_ChIP-seq_2015', 'ENCODE_and_ChEA_Consensus_TFs_from_ChIP-X', 'ESCAPE', 'Elsevier_Pathway_Collection', 'Enrichr_Libraries_Most_Popular_Genes', 'Enrichr_Submissions_TF-Gene_Coocurrence', 'Enrichr_Users_Contributed_Lists_2020', 'Epigenomics_Roadmap_HM_ChIP-seq', 'GO_Biological_Process_2013', 'GO_Biological_Process_2015', 'GO_Biological_Process_2017', 'GO_Biological_Process_2017b', 'GO_Biological_Process_2018', 'GO_Biological_Process_2021', 'GO_Cellular_Component_2013', 'GO_Cellular_Component_2015', 'GO_Cellular_Component_2017', 'GO_Cellular_Component_2017b', 'GO_Cellular_Component_2018', 'GO_Cellular_Component_2021', 'GO_Molecular_Function_2013', 'GO_Molecular_Function_2015', 'GO_Molecular_Function_2017', 'GO_Molecular_Function_2017b', 'GO_Molecular_Function_2018', 'GO_Molecular_Function_2021', 'GTEx_Aging_Signatures_2021', 'GTEx_Tissue_Expression_Down', 'GTEx_Tissue_Expression_Up', 'GWAS_Catalog_2019', 'GeneSigDB', 'Gene_Perturbations_from_GEO_down', 'Gene_Perturbations_from_GEO_up', 'Genes_Associated_with_NIH_Grants', 'Genome_Browser_PWMs', 'HDSigDB_Human_2021', 'HDSigDB_Mouse_2021', 'HMDB_Metabolites', 'HMS_LINCS_KinomeScan', 'HomoloGene', 'HuBMAP_ASCT_plus_B_augmented_w_RNAseq_Coexpression', 'HuBMAP_ASCTplusB_augmented_2022', 'HumanCyc_2015', 'HumanCyc_2016', 'Human_Gene_Atlas', 'Human_Phenotype_Ontology', 'InterPro_Domains_2019', 'Jensen_COMPARTMENTS', 'Jensen_DISEASES', 'Jensen_TISSUES', 'KEA_2013', 'KEA_2015', 'KEGG_2013', 'KEGG_2015', 'KEGG_2016', 'KEGG_2019_Human', 'KEGG_2019_Mouse', 'KEGG_2021_Human', 'Kinase_Perturbations_from_GEO_down', 'Kinase_Perturbations_from_GEO_up', 'L1000_Kinase_and_GPCR_Perturbations_down', 'L1000_Kinase_and_GPCR_Perturbations_up', 'LINCS_L1000_Chem_Pert_down', 'LINCS_L1000_Chem_Pert_up', 'LINCS_L1000_Ligand_Perturbations_down', 'LINCS_L1000_Ligand_Perturbations_up', 'Ligand_Perturbations_from_GEO_down', 'Ligand_Perturbations_from_GEO_up', 'MCF7_Perturbations_from_GEO_down', 'MCF7_Perturbations_from_GEO_up', 'MGI_Mammalian_Phenotype_2013', 'MGI_Mammalian_Phenotype_2017', 'MGI_Mammalian_Phenotype_Level_3', 'MGI_Mammalian_Phenotype_Level_4', 'MGI_Mammalian_Phenotype_Level_4_2019', 'MGI_Mammalian_Phenotype_Level_4_2021', 'MSigDB_Computational', 'MSigDB_Hallmark_2020', 'MSigDB_Oncogenic_Signatures', 'Microbe_Perturbations_from_GEO_down', 'Microbe_Perturbations_from_GEO_up', 'Mouse_Gene_Atlas', 'NCI-60_Cancer_Cell_Lines', 'NCI-Nature_2015', 'NCI-Nature_2016', 'NIH_Funded_PIs_2017_AutoRIF_ARCHS4_Predictions', 'NIH_Funded_PIs_2017_GeneRIF_ARCHS4_Predictions', 'NIH_Funded_PIs_2017_Human_AutoRIF', 'NIH_Funded_PIs_2017_Human_GeneRIF', 'NURSA_Human_Endogenous_Complexome', 'OMIM_Disease', 'OMIM_Expanded', 'Old_CMAP_down', 'Old_CMAP_up', 'Orphanet_Augmented_2021', 'PPI_Hub_Proteins', 'PanglaoDB_Augmented_2021', 'Panther_2015', 'Panther_2016', 'Pfam_Domains_2019', 'Pfam_InterPro_Domains', 'PheWeb_2019', 'PhenGenI_Association_2021', 'Phosphatase_Substrates_from_DEPOD', 'ProteomicsDB_2020', 'RNA-Seq_Disease_Gene_and_Drug_Signatures_from_GEO', 'RNAseq_Automatic_GEO_Signatures_Human_Down', 'RNAseq_Automatic_GEO_Signatures_Human_Up', 'RNAseq_Automatic_GEO_Signatures_Mouse_Down', 'RNAseq_Automatic_GEO_Signatures_Mouse_Up', 'Rare_Diseases_AutoRIF_ARCHS4_Predictions', 'Rare_Diseases_AutoRIF_Gene_Lists', 'Rare_Diseases_GeneRIF_ARCHS4_Predictions', 'Rare_Diseases_GeneRIF_Gene_Lists', 'Reactome_2013', 'Reactome_2015', 'Reactome_2016', 'SILAC_Phosphoproteomics', 'SubCell_BarCode', 'SysMyo_Muscle_Gene_Sets', 'TF-LOF_Expression_from_GEO', 'TF_Perturbations_Followed_by_Expression', 'TG_GATES_2020', 'TRANSFAC_and_JASPAR_PWMs', 'TRRUST_Transcription_Factors_2019', 'Table_Mining_of_CRISPR_Studies', 'TargetScan_microRNA', 'TargetScan_microRNA_2017', 'Tissue_Protein_Expression_from_Human_Proteome_Map', 'Tissue_Protein_Expression_from_ProteomicsDB', 'Transcription_Factor_PPIs', 'UK_Biobank_GWAS_v1', 'Virus-Host_PPI_P-HIPSTer_2020', 'VirusMINT', 'Virus_Perturbations_from_GEO_down', 'Virus_Perturbations_from_GEO_up', 'WikiPathway_2021_Human', 'WikiPathways_2013', 'WikiPathways_2015', 'WikiPathways_2016', 'WikiPathways_2019_Human', 'WikiPathways_2019_Mouse', 'dbGaP', 'huMAP', 'lncHUB_lncRNA_Co-Expression', 'miRTarBase_2017']\n"
     ]
    }
   ],
   "source": [
    "# get enrichr lib name from GSEApy\n",
    "lib_names = gp.get_library_name()\n",
    "lib_names\n",
    "print(lib_names)"
   ]
  },
  {
   "cell_type": "code",
   "execution_count": 9,
   "metadata": {},
   "outputs": [],
   "source": [
    "# set target libs to be used in GSEApy\n",
    "target_libs = [\n",
    "    # 'WikiPathway_2021_Human',\n",
    "    # 'KEGG_2021_Human',\n",
    "    # 'MSigDB_Hallmark_2020',\n",
    "    # 'GO_Biological_Process_2021',\n",
    "    # 'GO_Cellular_Component_2021',\n",
    "    # 'GO_Molecular_Function_2021',\n",
    "    # 'HDSigDB_Human_2021',\n",
    "    # 'Jensen_COMPARTMENTS'\n",
    "    'TF-LOF_Expression_from_GEO'\n",
    "    ]\n",
    "\n",
    "\n",
    "# careful here, if i use test as description, it works; if i use 'nc_B14_vs_TGF and kd_B14_vs_TGF' as description, it will throw error on gp.enrichr method\n",
    "# description = 'nc_B14_vs_TGF and kd_B14_vs_TGF'\n",
    "description = 'test'"
   ]
  },
  {
   "cell_type": "code",
   "execution_count": 10,
   "metadata": {},
   "outputs": [
    {
     "name": "stdout",
     "output_type": "stream",
     "text": [
      "B14_KD_vs_NC_UP_genes\n"
     ]
    },
    {
     "name": "stderr",
     "output_type": "stream",
     "text": [
      "2022-04-21 19:24:51,455 Connecting to Enrichr Server to get latest library names\n",
      "2022-04-21 19:24:51,456 Analysis name: test, Enrichr Library: TF-LOF_Expression_from_GEO\n",
      "2022-04-21 19:24:59,149 Save file of enrichment results: Job Id:da5b737cb78f16fa9d4b1ee13775bee5\n",
      "2022-04-21 19:24:59,292 Done.\n",
      "\n"
     ]
    },
    {
     "name": "stdout",
     "output_type": "stream",
     "text": [
      "TF-LOF_Expression_from_GEO B14_KD_vs_NC_UP_genes\n",
      "Legend is shown.localtion  best\n"
     ]
    }
   ],
   "source": [
    "for gene_list_name, gene_list in dict_gene_list.items():\n",
    "    print(gene_list_name)\n",
    "    # print(gene_list)\n",
    "    try :\n",
    "        enr = gp.enrichr(\n",
    "                    gene_list=gene_list,\n",
    "                    gene_sets=target_libs,\n",
    "                    organism='Human',\n",
    "                    description=description,\n",
    "                    outdir=wk_dir+'enrichr_plots/'+gene_list_name,\n",
    "                    # no_plot=False,\n",
    "                    cutoff=0.05,\n",
    "                    verbose=True\n",
    "                    )\n",
    "        # print(enr.res2d)   \n",
    "        # time.sleep(10)\n",
    "    except e as Exception:\n",
    "        print(f'error: {e}')\n",
    "\n",
    "    # to save your figure, make sure that ``ofname`` is not None\n",
    "    title = ' and '.join(target_libs) + ' ' + gene_list_name\n",
    "    print(title)\n",
    "\n",
    "    try :\n",
    "        \n",
    "        dotplot(enr.res2d,title=title,\n",
    "            top_term=20,\n",
    "            cmap='viridis_r',\n",
    "            ofname=wk_dir + title+'.png',\n",
    "            )\n",
    "        # time.sleep(10)                \n",
    "    except e2 as Exception:\n",
    "        print(f'error2: {e2}')"
   ]
  },
  {
   "cell_type": "code",
   "execution_count": null,
   "metadata": {},
   "outputs": [],
   "source": [
    "# same as above, for single data plot\n",
    "for gene_list_name, gene_list in dict_gene_list.items():\n",
    "    print(gene_list_name)\n",
    "\n",
    "name = 'kd_B14_vs_TGFb_UP_genes'\n",
    "list = dict_gene_list[name]\n",
    "enr = gp.enrichr(\n",
    "                gene_list=list,\n",
    "                gene_sets=target_libs,\n",
    "                organism='Human',\n",
    "                description=description,\n",
    "                outdir=wk_dir+'enrichr_plots/'+name,\n",
    "                # no_plot=False,\n",
    "                cutoff=0.05,\n",
    "                verbose=True\n",
    "                )\n",
    "# print(enr.res2d)   \n",
    "\n",
    "\n",
    "# to save your figure, make sure that ``ofname`` is not None\n",
    "title = ' and '.join(target_libs) + ' ' + name\n",
    "# print(title)\n",
    "\n",
    "dotplot(enr.res2d,title=title,\n",
    "        top_term=20,\n",
    "        cmap='viridis_r',\n",
    "        # ofname=wk_dir + title+'.png',\n",
    "        )   "
   ]
  }
 ],
 "metadata": {
  "interpreter": {
   "hash": "40d3a090f54c6569ab1632332b64b2c03c39dcf918b08424e98f38b5ae0af88f"
  },
  "kernelspec": {
   "display_name": "Python 3.8.5 64-bit ('base': conda)",
   "language": "python",
   "name": "python3"
  },
  "language_info": {
   "codemirror_mode": {
    "name": "ipython",
    "version": 3
   },
   "file_extension": ".py",
   "mimetype": "text/x-python",
   "name": "python",
   "nbconvert_exporter": "python",
   "pygments_lexer": "ipython3",
   "version": "3.8.5"
  },
  "orig_nbformat": 4
 },
 "nbformat": 4,
 "nbformat_minor": 2
}
