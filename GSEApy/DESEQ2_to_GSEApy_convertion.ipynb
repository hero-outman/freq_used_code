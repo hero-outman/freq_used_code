{
 "cells": [
  {
   "cell_type": "markdown",
   "metadata": {},
   "source": [
    "## convert mRNA-seq DESeq result tsv to GSEApy input txt format\n",
    "## deg deseq2 result output by snakepipes "
   ]
  },
  {
   "cell_type": "code",
   "execution_count": 8,
   "metadata": {},
   "outputs": [],
   "source": [
    "import pandas as pd\n",
    "import os\n",
    "\n",
    "wk_dir = '/Users/jplab/Desktop/cw/'\n",
    "os.chdir(wk_dir)"
   ]
  },
  {
   "cell_type": "markdown",
   "metadata": {},
   "source": [
    "## DESeq2 tsv format --> txt for gesapy\n",
    "* need to convert to :\n",
    "  ```\n",
    "  NAME DESCRIPTION(fill with na) sample_names\n",
    "  ``` \n",
    "* when auto get sample names from deseq2 tsv, i arbitry use colnames between **geneid and basemean**; so upsteam steps need to follow this rule"
   ]
  },
  {
   "cell_type": "code",
   "execution_count": 14,
   "metadata": {},
   "outputs": [],
   "source": [
    "need_to_convert = [\n",
    "    # '/Users/jplab/Desktop/cw/abm_mRNA/ANALYSIS/DEseq_basic_DEresults_counts_DESeq2.normalized_noVersion.tsv',\n",
    "    # '/Users/jplab/Desktop/cw/ab_mRNA/ANALYSIS/DEseq_basic_DEresults_counts_DESeq2.normalized_noVersion.tsv',\n",
    "    '/Users/jplab/Desktop/cw/ab_atac/ANALYSIS/combine/ABUP_enrichRegion_expr.tsv',\n",
    "    '/Users/jplab/Desktop/cw/ab_atac/ANALYSIS/combine/PBSUP_enrichRegion_expr.tsv',\n",
    "    '/Users/jplab/Desktop/cw/abm_atac/ANALYSIS/combine/PBSMvsABM/PBSMUP_enrichRegion_expr.tsv',\n",
    "    '/Users/jplab/Desktop/cw/abm_atac/ANALYSIS/combine/PBSMvsABM/ABMUP_enrichRegion_expr.tsv',\n",
    "]"
   ]
  },
  {
   "cell_type": "markdown",
   "metadata": {},
   "source": [
    "* file save name need to check file list upon, use sample folder for save name; so set index here"
   ]
  },
  {
   "cell_type": "code",
   "execution_count": 15,
   "metadata": {},
   "outputs": [],
   "source": [
    "file_save_name_offset = -1"
   ]
  },
  {
   "cell_type": "code",
   "execution_count": 16,
   "metadata": {},
   "outputs": [
    {
     "name": "stdout",
     "output_type": "stream",
     "text": [
      "ABUP_enrichRegion_expr.tsv_gseapy_input.txt\n",
      "PBSUP_enrichRegion_expr.tsv_gseapy_input.txt\n",
      "PBSMUP_enrichRegion_expr.tsv_gseapy_input.txt\n",
      "ABMUP_enrichRegion_expr.tsv_gseapy_input.txt\n"
     ]
    }
   ],
   "source": [
    "for f in need_to_convert:\n",
    "    df_need_convert = pd.read_csv(f,header=0, sep=\"\\t\",index_col=False)\n",
    "\n",
    "    # remove low expression genes\n",
    "    df_need_convert = df_need_convert[df_need_convert['baseMean'] > 50]\n",
    "\n",
    "    need_convert_colNames = df_need_convert.columns.values.tolist()\n",
    "    end_offset = need_convert_colNames.index('baseMean')\n",
    "    sample_names = need_convert_colNames[1:end_offset]\n",
    "\n",
    "    format_gseapy_input = ['NAME','DESCRIPTION']\n",
    "    df_for_gseapy = pd.DataFrame(columns=format_gseapy_input)\n",
    "    df_for_gseapy['NAME'] = df_need_convert['external_gene_name'].str.upper()\n",
    "    df_for_gseapy['DESCRIPTION'] = 'na'\n",
    "    df_for_gseapy[sample_names] = df_need_convert[sample_names]\n",
    "    df_for_gseapy = df_for_gseapy.drop_duplicates(subset=['NAME'])\n",
    "    \n",
    "\n",
    "    # print(df_for_gseapy)\n",
    "    saveName = f.split('/')[file_save_name_offset] \\\n",
    "        .split('DESeq2_samplesheet_')[-1] \\\n",
    "        + '_gseapy_input.txt'\n",
    "    print(saveName)\n",
    "\n",
    "    df_for_gseapy.to_csv(wk_dir + saveName,sep='\\t',index=False)"
   ]
  }
 ],
 "metadata": {
  "interpreter": {
   "hash": "40d3a090f54c6569ab1632332b64b2c03c39dcf918b08424e98f38b5ae0af88f"
  },
  "kernelspec": {
   "display_name": "Python 3.8.5 ('base')",
   "language": "python",
   "name": "python3"
  },
  "language_info": {
   "codemirror_mode": {
    "name": "ipython",
    "version": 3
   },
   "file_extension": ".py",
   "mimetype": "text/x-python",
   "name": "python",
   "nbconvert_exporter": "python",
   "pygments_lexer": "ipython3",
   "version": "3.8.5"
  },
  "orig_nbformat": 4
 },
 "nbformat": 4,
 "nbformat_minor": 2
}
