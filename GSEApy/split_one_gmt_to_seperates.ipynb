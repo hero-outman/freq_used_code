{
 "cells": [
  {
   "cell_type": "markdown",
   "metadata": {},
   "source": [
    "# split one gmt file to each separate gmt"
   ]
  },
  {
   "cell_type": "code",
   "execution_count": 4,
   "metadata": {},
   "outputs": [],
   "source": [
    "import os"
   ]
  },
  {
   "cell_type": "code",
   "execution_count": 6,
   "metadata": {},
   "outputs": [],
   "source": [
    "target_gmt = '/Users/jplab/Desktop/freq_used_file/gene_sets/gmt/surfactant/REACTOME_SURFACTANT_METABOLISM.gmt'\n",
    "save_path = os.path.dirname(target_gmt)\n",
    "\n",
    "with open(target_gmt) as gmts:\n",
    "    gmt_lines = gmts.readlines()\n",
    "\n",
    "    for gmt_line in gmt_lines:\n",
    "\n",
    "        gmt_line = gmt_line.strip('\\n')\n",
    "        line_list = gmt_line.split('\\t')\n",
    "\n",
    "        gmt_name = line_list[0] + '.gmt'\n",
    "        with open(save_path + '/' + gmt_name,'w') as save_gmt:\n",
    "            for l in line_list:\n",
    "                save_gmt.write(l + '\\t')"
   ]
  }
 ],
 "metadata": {
  "interpreter": {
   "hash": "40d3a090f54c6569ab1632332b64b2c03c39dcf918b08424e98f38b5ae0af88f"
  },
  "kernelspec": {
   "display_name": "Python 3.8.5 ('base')",
   "language": "python",
   "name": "python3"
  },
  "language_info": {
   "codemirror_mode": {
    "name": "ipython",
    "version": 3
   },
   "file_extension": ".py",
   "mimetype": "text/x-python",
   "name": "python",
   "nbconvert_exporter": "python",
   "pygments_lexer": "ipython3",
   "version": "3.8.5"
  },
  "orig_nbformat": 4
 },
 "nbformat": 4,
 "nbformat_minor": 2
}
