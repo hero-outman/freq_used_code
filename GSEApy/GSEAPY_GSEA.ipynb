{
 "cells": [
  {
   "cell_type": "markdown",
   "metadata": {},
   "source": [
    "# use GSEAPY for gsea analysis\n",
    "## manual \n",
    "* https://buildmedia.readthedocs.org/media/pdf/gseapy/latest/gseapy.pdf"
   ]
  },
  {
   "cell_type": "code",
   "execution_count": null,
   "metadata": {},
   "outputs": [],
   "source": [
    "import pandas as pd\n",
    "import glob, os, subprocess, sys, logging\n",
    "import gseapy as gp\n",
    "\n",
    "from gseapy.plot import gseaplot\n",
    "\n",
    "from alive_progress import alive_bar\n",
    "\n",
    "wk_dir = '/Users/jplab/Desktop/DAILY_CODE_DATA/2022-3/data/3-10_GSEApy_newcode/'\n",
    "os.chdir(wk_dir)"
   ]
  },
  {
   "cell_type": "markdown",
   "metadata": {},
   "source": [
    "## make counts data to gsea expression txt format:\n",
    "* reps **do not** need to be merged by mean value;\n",
    "* column0 gene symbol; column1 descrpition(use NA to fill); column2 deseq2 normalized counts"
   ]
  },
  {
   "cell_type": "code",
   "execution_count": null,
   "metadata": {},
   "outputs": [],
   "source": [
    "deg_for_gsea_file_path = '/Users/jplab/Desktop/DAILY_CODE_DATA/2022-3/data/3-9_lysosome_gseapy/*txt'\n",
    "\n",
    "deg_files = glob.glob(deg_for_gsea_file_path)\n",
    "\n",
    "cls_file_list = [\n",
    "    '/Users/jplab/Desktop/DAILY_CODE_DATA/2022-3/data/3-9_lysosome_gseapy/shNC_TGF_shNC_B14.cls',\n",
    "    '/Users/jplab/Desktop/DAILY_CODE_DATA/2022-3/data/3-9_lysosome_gseapy/shFOXA1B14_shNCB14.cls',\n",
    "    '/Users/jplab/Desktop/DAILY_CODE_DATA/2022-3/data/3-9_lysosome_gseapy/shNC_TGF_shFOXA1_TGF.cls',\n",
    "    '/Users/jplab/Desktop/DAILY_CODE_DATA/2022-3/data/3-9_lysosome_gseapy/shFOXA1_TGF_shFOXA1_B14.cls'\n",
    "]"
   ]
  },
  {
   "cell_type": "markdown",
   "metadata": {},
   "source": [
    "### Note!\n",
    "* **don't** use `.cls` file; can not get any results!!!\n",
    "* use a string list instead!!! see below"
   ]
  },
  {
   "cell_type": "code",
   "execution_count": null,
   "metadata": {},
   "outputs": [],
   "source": [
    "cls_list_order = []\n",
    "\n",
    "# df_deg_list = []\n",
    "\n",
    "for f in deg_files:\n",
    "    f_name = os.path.basename(f)\n",
    "    cls_list_order.append(f_name)\n",
    "\n",
    "    # df_deg = pd.read_csv(f, header=0, sep='\\t').drop_duplicates(subset=['NAME'])\n",
    "\n",
    "    # df_deg_list.append(df_deg)\n",
    "    \n",
    "print('please provide cls file list, the order need to be same as: ',cls_list_order)\n",
    "# print(df_deg_list)"
   ]
  },
  {
   "cell_type": "markdown",
   "metadata": {},
   "source": [
    "* seems cls data cloud also accept a list of string, instead of a .cls file;\n",
    "\n",
    "```python\n",
    "# phenotype data\n",
    "cls_b_d =['B14', 'B14','DMSO','DMSO']\n",
    "cls_b_t =['B14', 'B14', 'TGF', 'TGF']\n",
    "```"
   ]
  },
  {
   "cell_type": "code",
   "execution_count": null,
   "metadata": {},
   "outputs": [],
   "source": [
    "def do_gseapy(deg_file_list, gmt_file):\n",
    "    # print('step into gesapy....')\n",
    "\n",
    "    # print('using gmt : {0}'.format(gmt_file))\n",
    "\n",
    "    gsea_result_path = wk_dir\n",
    "    statu_flag = False\n",
    "\n",
    "    for index, f_deg in enumerate(deg_files):\n",
    "\n",
    "        f_name = os.path.basename(f_deg).split('_gseapy_input.txt')[0]\n",
    "        df_deg = pd.read_csv(f_deg, header=0, sep='\\t').drop_duplicates(subset=['NAME'])\n",
    "        gmt_file_name = os.path.basename(gmt_file)\n",
    "        # check gmt file is a temp file or not; if is a temp file, then remove prefix 'temp_' and suffix xx\n",
    "        # an temp example: temp_c5.all.v7.5.1.symbols.gmtam\n",
    "\n",
    "        if gmt_file_name.startswith('temp_'): \n",
    "            gmt_file_name = gmt_file_name.split('_')[-1]\n",
    "            # print('gmt name use for fold: {0}'.format(gmt_file_name))\n",
    "\n",
    "        # this_cls = cls_file_list[index]\n",
    "        this_cls = df_deg.columns.values.tolist()\n",
    "\n",
    "        # 1 is the maximum number of splits to perform\n",
    "        this_cls = [i.split('_1', 1)[0] for i in this_cls]\n",
    "        this_cls = [i.split('_2', 1)[0] for i in this_cls]\n",
    "        this_cls = this_cls[2:]\n",
    "        # print('this_cls: {0}, using gmt file: {1}, using input: {2}'.format(this_cls, gmt_file_name, f_name))\n",
    "\n",
    "        # print(f'deg file name:{df_deg}, cls file name: {this_cls}')\n",
    "\n",
    "        # codes for debug\n",
    "        # with open(this_cls) as c:\n",
    "        #     file = c.readlines()\n",
    "        #     sample_name = file[1].lstrip(\"# \").strip('\\n').split(\" \")\n",
    "        # print(sample_name)\n",
    "        # print(len(sample_name))\n",
    "\n",
    "        try:\n",
    "            gs_res = gp.gsea(data=df_deg,\n",
    "                            gene_sets=gmt_file,\n",
    "                            min_size=5,\n",
    "                            max_size=500,\n",
    "                            cls=this_cls,\n",
    "                            outdir=gsea_result_path+gmt_file_name+'/' + f_name + '/',\n",
    "                            no_plot=False,\n",
    "                            # set permutation_type to phenotype if samples >=15\n",
    "                            permutation_type='gene_set',\n",
    "                            method='log2_ratio_of_classes',\n",
    "                            permutation_num=1000,\n",
    "                            processes=16, seed=7,\n",
    "                            format='png',\n",
    "                            figsize=[6.5, 6]\n",
    "                            )\n",
    "            statu_flag = True                \n",
    "        except Exception as e:\n",
    "            statu_flag = False\n",
    "            print(str(e))\n",
    "            sys.exit('Oh no, Barbecue le....')\n",
    "\n",
    "    return gs_res, statu_flag            "
   ]
  },
  {
   "cell_type": "markdown",
   "metadata": {},
   "source": [
    "## add some config to GSEA"
   ]
  },
  {
   "cell_type": "code",
   "execution_count": null,
   "metadata": {},
   "outputs": [],
   "source": [
    "min_gene_set_size = 10"
   ]
  },
  {
   "cell_type": "code",
   "execution_count": null,
   "metadata": {},
   "outputs": [],
   "source": [
    "# multifile\n",
    "# gmt_file_path = '/Users/jplab/Desktop/freq_used_file/gene_sets/gmt/'\n",
    "# gmt_files = glob.glob(gmt_file_path+'c*.v7.5.1.symbols.gmt')\n",
    "\n",
    "# single file\n",
    "gmt_files = glob.glob('/Users/jplab/Desktop/freq_used_file/gene_sets/gmt/*.symbols.gmt')\n",
    "# gmt_files = glob.glob('/Users/jplab/Desktop/freq_used_file/gene_sets/gmt/PID_HNF3A_PATHWAY.gmt')\n",
    "\n",
    "# /Users/jplab/Desktop/freq_used_file/gene_sets/gmt/c5.all.v7.5.1.symbols.gmt\n",
    "# /Users/jplab/Desktop/freq_used_file/gene_sets/gmt/c6.all.v7.5.1.symbols.gmt\n",
    "\n",
    "for gmt_file in gmt_files:\n",
    "\n",
    "    file_name = os.path.basename(gmt_file).split('_geneset.gmt')[0]\n",
    "\n",
    "    # check how many lines in gmt file, if more than 2000, split it by 2000; or GSEApy will crash;\n",
    "    num_lines = sum(1 for line in open(gmt_file))\n",
    "    each_split_num = 100\n",
    "    temp_file_format = 'temp_'+file_name\n",
    "\n",
    "    if num_lines <= each_split_num:\n",
    "        # print('gmt file: {0} is less than {1}, doing GSEApy now!'.format(gmt_file, each_split_num))\n",
    "\n",
    "        gsea_res, status =  do_gseapy(deg_files, gmt_file)\n",
    "        # status  = 'test less than {0}, do gsea; gmt file use: {1}'.format(each_split_num,gmt_file)\n",
    "        # print(status)\n",
    "\n",
    "        if status :\n",
    "            print('GSEApy successed on {0} gmt!'.format(gmt_file))\n",
    "        else:\n",
    "            print('GSEApy failed on {0} gmt!'.format(gmt_file))\n",
    "    else:\n",
    "        print('GSEApy will crash, I will split the gmt file by {0} lines or less'.format(each_split_num))\n",
    "\n",
    "        split_cmd = 'split -l {0} {1} {2}'.format(each_split_num, gmt_file,temp_file_format) \n",
    "\n",
    "        exit_status = subprocess.call(split_cmd, shell=True)\n",
    "    \n",
    "        if exit_status == 1:\n",
    "            print('large gmt file \"{0}\" failed to split. Oh no, Barbecueeeeee le....'.format(gmt_file))\n",
    "        if exit_status == 0:\n",
    "            print('large gmt file \"{0}\" was successed split into {1} lines each file, great!'.format(gmt_file,each_split_num))\n",
    "\n",
    "        # split command will add nasty suffix to file extension, so need to reformat it\n",
    "        # os.rename('a.txt', 'b.kml')\n",
    "        temp_gmt_files = glob.glob('./'+temp_file_format+'??')\n",
    "        for temp_gmt in temp_gmt_files:\n",
    "            nasty_suffix = temp_gmt.split(file_name)[-1]\n",
    "            # print('nasty suffix: {0}'.format(nasty_suffix))\n",
    "            os.rename(temp_gmt, 'temp_'+nasty_suffix+'_'+file_name)\n",
    "            # print('new file name: {0}'.format('temp_'+nasty_suffix+'_'+file_name))\n",
    "\n",
    "        # after split gmt files to temp file, perform gsea analysis\n",
    "        temp_gmt_files = glob.glob('./temp_*.gmt')\n",
    "\n",
    "        total_temp_gmt_files = len(temp_gmt_files)\n",
    "\n",
    "        logging.basicConfig(level=logging.INFO)\n",
    "        logger = logging.getLogger('now handling {0} gmt files'.format(gmt_file))\n",
    "\n",
    "        with alive_bar(total_temp_gmt_files) as bar:\n",
    "        \n",
    "            for temp_gmt in temp_gmt_files:\n",
    "                gsea_res, status =  do_gseapy(deg_files, temp_gmt)\n",
    "                # status  = 'test more than {0}, do gsea; gmt file use: {1}'.format(each_split_num,temp_gmt)\n",
    "                # print(status)\n",
    "\n",
    "                if status == True :\n",
    "                    print('GSEApy successed on {0} gmt!'.format(temp_gmt))\n",
    "                else:\n",
    "                    print('GSEApy failed on {0} gmt!'.format(temp_gmt))\n",
    "\n",
    "                bar()    \n",
    "\n",
    "        # # rm temp_ gmt_file\n",
    "        rm_temp_cmd = 'rm {0}'.format('./temp_*') \n",
    "        rm_exit_status = subprocess.call(rm_temp_cmd, shell=True)\n",
    "        if exit_status == 1:\n",
    "            print('temp gmt file failed to delete')\n",
    "        if exit_status == 0:\n",
    "            print('temp gmt files removed')"
   ]
  },
  {
   "cell_type": "code",
   "execution_count": null,
   "metadata": {},
   "outputs": [],
   "source": [
    "def drop_empty_folders(directory):\n",
    "    \"\"\"Verify that every empty folder removed in local storage.\"\"\"\n",
    "\n",
    "    for dirpath, dirnames, filenames in os.walk(directory, topdown=False):\n",
    "        if not dirnames and not filenames:\n",
    "            os.rmdir(dirpath)"
   ]
  },
  {
   "cell_type": "code",
   "execution_count": null,
   "metadata": {},
   "outputs": [],
   "source": [
    "drop_empty_folders(gsea_result_path)"
   ]
  },
  {
   "cell_type": "code",
   "execution_count": null,
   "metadata": {},
   "outputs": [],
   "source": [
    "from tqdm.notebook import tqdm\n",
    "from time import sleep\n",
    "for i in tqdm(range(100)):\n",
    "    print(i)\n",
    "    # sleep(1)"
   ]
  },
  {
   "cell_type": "code",
   "execution_count": null,
   "metadata": {},
   "outputs": [],
   "source": [
    "from alive_progress import alive_bar\n",
    "import time\n",
    "\n",
    "for x in 1000, 1500, 700, 0:\n",
    "   with alive_bar(x) as bar:\n",
    "       for i in range(1000):\n",
    "           time.sleep(.005)\n",
    "           bar()"
   ]
  }
 ],
 "metadata": {
  "interpreter": {
   "hash": "40d3a090f54c6569ab1632332b64b2c03c39dcf918b08424e98f38b5ae0af88f"
  },
  "kernelspec": {
   "display_name": "Python 3.8.5 64-bit ('base': conda)",
   "name": "python3"
  },
  "language_info": {
   "codemirror_mode": {
    "name": "ipython",
    "version": 3
   },
   "file_extension": ".py",
   "mimetype": "text/x-python",
   "name": "python",
   "nbconvert_exporter": "python",
   "pygments_lexer": "ipython3",
   "version": "3.8.5"
  },
  "orig_nbformat": 4
 },
 "nbformat": 4,
 "nbformat_minor": 2
}
