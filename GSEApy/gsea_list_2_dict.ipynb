{
 "cells": [
  {
   "cell_type": "code",
   "execution_count": 1,
   "metadata": {},
   "outputs": [
    {
     "name": "stdout",
     "output_type": "stream",
     "text": [
      "match  result:  > VEGF signaling pathway\n",
      "1\n",
      "match  result:  > mTOR signaling pathway\n",
      "1\n",
      "match  result:  > Focal adhesion\n",
      "1\n",
      "match  result:  > Genes up-regulated in response to low oxygen levels (hypoxia).\n",
      "1\n",
      "match  result:  > CDC42 signaling events\n",
      "1\n",
      "match  result:  > Regulation of autophagy\n",
      "1\n",
      "match  result:  > Signaling by BMP\n",
      "1\n",
      "match  result:  > Cell adhesion molecules (CAMs)\n",
      "1\n",
      "match  result:  > Adherens junction\n",
      "1\n",
      "match  result:  > Autophagy\n",
      "1\n",
      "match  result:  > PI3K/AKT Signaling in Cancer\n",
      "1\n",
      "match  result:  > Genes up-regulated by IL6 [GeneID=3569] via STAT3 [GeneID=6774], e.g., during acute phase response.\n",
      "1\n",
      "match  result:  > Cell to Cell Adhesion Signaling\n",
      "1\n",
      "match  result:  > Any process that modulates the frequency, rate or extent of the activity of any BMP receptor signaling pathway. [GOC:mah]\n",
      "1\n",
      "match  result:  > BMP receptor signaling\n",
      "1\n",
      "match  result:  > Genes up-regulated by activation of the PI3K/AKT/mTOR pathway.\n",
      "1\n",
      "match  result:  > Hypoxia-Inducible Factor in the Cardiovascular System\n",
      "1\n",
      "match  result:  > The 'core ESC-like gene module': genes coordinately up-regulated in a compendium of mouse embryonic stem cells (ESC) which are shared with the human ESC-like module.\n",
      "1\n",
      "match  result:  > VEGF, Hypoxia, and Angiogenesis\n",
      "1\n",
      "{'KEGG_VEGF_SIGNALING_PATHWAY': ['AKT1', 'AKT2', 'AKT3', 'BAD', 'CASP9', 'CDC42', 'CHP1', 'CHP2', 'HRAS', 'HSPB1', 'JMJD7-PLA2G4B', 'KDR', 'KRAS', 'MAP2K1', 'MAP2K2', 'MAPK1', 'MAPK11', 'MAPK12', 'MAPK13', 'MAPK14', 'MAPK3', 'MAPKAPK2', 'MAPKAPK3', 'NFAT5', 'NFATC1', 'NFATC2', 'NFATC3', 'NFATC4', 'NOS3', 'NRAS', 'PIK3CA', 'PIK3CB', 'PIK3CD', 'PIK3CG', 'PIK3R1', 'PIK3R2', 'PIK3R3', 'PIK3R5', 'PLA2G10', 'PLA2G12A', 'PLA2G12B', 'PLA2G1B', 'PLA2G2A', 'PLA2G2C', 'PLA2G2D', 'PLA2G2E', 'PLA2G2F', 'PLA2G3', 'PLA2G4A', 'PLA2G4B', 'PLA2G4E', 'PLA2G5', 'PLA2G6', 'PLCG1', 'PLCG2', 'PPP3CA', 'PPP3CB', 'PPP3CC', 'PPP3R1', 'PPP3R2', 'PRKCA', 'PRKCB', 'PRKCG', 'PTGS2', 'PTK2', 'PXN', 'RAC1', 'RAC2', 'RAC3', 'RAF1', 'SH2D2A', 'SHC2', 'SPHK1', 'SPHK2', 'SRC', 'VEGFA'], 'KEGG_MTOR_SIGNALING_PATHWAY': ['AKT1', 'AKT2', 'AKT3', 'BRAF', 'CAB39', 'CAB39L', 'DDIT4', 'EIF4B', 'EIF4E', 'EIF4E1B', 'EIF4E2', 'EIF4EBP1', 'HIF1A', 'IGF1', 'INS', 'MAPK1', 'MAPK3', 'MLST8', 'MTOR', 'PDPK1', 'PGF', 'PIK3CA', 'PIK3CB', 'PIK3CD', 'PIK3CG', 'PIK3R1', 'PIK3R2', 'PIK3R3', 'PIK3R5', 'PRKAA1', 'PRKAA2', 'RHEB', 'RICTOR', 'RPS6', 'RPS6KA1', 'RPS6KA2', 'RPS6KA3', 'RPS6KA6', 'RPS6KB1', 'RPS6KB2', 'RPTOR', 'STK11', 'STRADA', 'TSC1', 'TSC2', 'ULK1', 'ULK2', 'ULK3', 'VEGFA', 'VEGFB', 'VEGFC', 'VEGFD'], 'KEGG_FOCAL_ADHESION': ['ACTB', 'ACTG1', 'ACTN1', 'ACTN2', 'ACTN3', 'ACTN4', 'AKT1', 'AKT2', 'AKT3', 'ARHGAP35', 'ARHGAP5', 'BAD', 'BCAR1', 'BCL2', 'BIRC2', 'BIRC3', 'BRAF', 'CAPN2', 'CAV1', 'CAV2', 'CAV3', 'CCND1', 'CCND2', 'CCND3', 'CDC42', 'CHAD', 'COL11A1', 'COL11A2', 'COL1A1', 'COL1A2', 'COL2A1', 'COL3A1', 'COL4A1', 'COL4A2', 'COL4A4', 'COL4A6', 'COL5A1', 'COL5A2', 'COL5A3', 'COL6A1', 'COL6A2', 'COL6A3', 'COL6A6', 'COMP', 'CRK', 'CRKL', 'CTNNB1', 'DIAPH1', 'DOCK1', 'EGF', 'EGFR', 'ELK1', 'ERBB2', 'FLNA', 'FLNB', 'FLNC', 'FLT1', 'FLT4', 'FN1', 'FYN', 'GRB2', 'GSK3B', 'HGF', 'HRAS', 'IBSP', 'IGF1', 'IGF1R', 'ILK', 'ITGA1', 'ITGA10', 'ITGA11', 'ITGA2', 'ITGA2B', 'ITGA3', 'ITGA4', 'ITGA5', 'ITGA6', 'ITGA7', 'ITGA8', 'ITGA9', 'ITGAV', 'ITGB1', 'ITGB3', 'ITGB4', 'ITGB5', 'ITGB6', 'ITGB7', 'ITGB8', 'JUN', 'KDR', 'LAMA1', 'LAMA2', 'LAMA3', 'LAMA4', 'LAMA5', 'LAMB1', 'LAMB2', 'LAMB3', 'LAMB4', 'LAMC1', 'LAMC2', 'LAMC3', 'MAP2K1', 'MAPK1', 'MAPK10', 'MAPK3', 'MAPK8', 'MAPK9', 'MET', 'MYL10', 'MYL12A', 'MYL12B', 'MYL2', 'MYL5', 'MYL7', 'MYL9', 'MYLK', 'MYLK2', 'MYLK3', 'MYLPF', 'PAK1', 'PAK2', 'PAK3', 'PAK4', 'PAK5', 'PAK6', 'PARVA', 'PARVB', 'PARVG', 'PDGFA', 'PDGFB', 'PDGFC', 'PDGFD', 'PDGFRA', 'PDGFRB', 'PDPK1', 'PGF', 'PIK3CA', 'PIK3CB', 'PIK3CD', 'PIK3CG', 'PIK3R1', 'PIK3R2', 'PIK3R3', 'PIK3R5', 'PIP5K1C', 'PPP1CA', 'PPP1CB', 'PPP1CC', 'PPP1R12A', 'PRKCA', 'PRKCB', 'PRKCG', 'PTEN', 'PTK2', 'PXN', 'RAC1', 'RAC2', 'RAC3', 'RAF1', 'RAP1A', 'RAP1B', 'RAPGEF1', 'RASGRF1', 'RELN', 'RHOA', 'ROCK1', 'ROCK2', 'SHC1', 'SHC2', 'SHC3', 'SHC4', 'SOS1', 'SOS2', 'SPP1', 'SRC', 'THBS1', 'THBS2', 'THBS3', 'THBS4', 'TLN1', 'TLN2', 'TNC', 'TNN', 'TNR', 'TNXB', 'VASP', 'VAV1', 'VAV2', 'VAV3', 'VCL', 'VEGFA', 'VEGFB', 'VEGFC', 'VEGFD', 'VTN', 'VWF', 'XIAP', 'ZYX'], 'HALLMARK_HYPOXIA': ['ACKR3', 'ADM', 'ADORA2B', 'AK4', 'AKAP12', 'ALDOA', 'ALDOB', 'ALDOC', 'AMPD3', 'ANGPTL4', 'ANKZF1', 'ANXA2', 'ATF3', 'ATP7A', 'B3GALT6', 'B4GALNT2', 'BCAN', 'BCL2', 'BGN', 'BHLHE40', 'BNIP3L', 'BRS3', 'BTG1', 'CA12', 'CASP6', 'CAV1', 'CAVIN1', 'CAVIN3', 'CCN1', 'CCN2', 'CCN5', 'CCNG2', 'CDKN1A', 'CDKN1B', 'CDKN1C', 'CHST2', 'CHST3', 'CITED2', 'COL5A1', 'CP', 'CSRP2', 'CXCR4', 'DCN', 'DDIT3', 'DDIT4', 'DPYSL4', 'DTNA', 'DUSP1', 'EDN2', 'EFNA1', 'EFNA3', 'EGFR', 'ENO1', 'ENO2', 'ENO3', 'ERO1A', 'ERRFI1', 'ETS1', 'EXT1', 'F3', 'FAM162A', 'FBP1', 'FOS', 'FOSL2', 'FOXO3', 'GAA', 'GALK1', 'GAPDH', 'GAPDHS', 'GBE1', 'GCK', 'GCNT2', 'GLRX', 'GPC1', 'GPC3', 'GPC4', 'GPI', 'GRHPR', 'GYS1', 'HAS1', 'HDLBP', 'HEXA', 'HK1', 'HK2', 'HMOX1', 'HOXB9', 'HS3ST1', 'HSPA5', 'IDS', 'IER3', 'IGFBP1', 'IGFBP3', 'IL6', 'ILVBL', 'INHA', 'IRS2', 'ISG20', 'JMJD6', 'JUN', 'KDELR3', 'KDM3A', 'KIF5A', 'KLF6', 'KLF7', 'KLHL24', 'LALBA', 'LARGE1', 'LDHA', 'LDHC', 'LOX', 'LXN', 'MAFF', 'MAP3K1', 'MIF', 'MT1E', 'MT2A', 'MXI1', 'MYH9', 'NAGK', 'NCAN', 'NDRG1', 'NDST1', 'NDST2', 'NEDD4L', 'NFIL3', 'NOCT', 'NR3C1', 'P4HA1', 'P4HA2', 'PAM', 'PCK1', 'PDGFB', 'PDK1', 'PDK3', 'PFKFB3', 'PFKL', 'PFKP', 'PGAM2', 'PGF', 'PGK1', 'PGM1', 'PGM2', 'PHKG1', 'PIM1', 'PKLR', 'PKP1', 'PLAC8', 'PLAUR', 'PLIN2', 'PNRC1', 'PPARGC1A', 'PPFIA4', 'PPP1R15A', 'PPP1R3C', 'PRDX5', 'PRKCA', 'PYGM', 'RBPJ', 'RORA', 'RRAGD', 'S100A4', 'SAP30', 'SCARB1', 'SDC2', 'SDC3', 'SDC4', 'SELENBP1', 'SERPINE1', 'SIAH2', 'SLC25A1', 'SLC2A1', 'SLC2A3', 'SLC2A5', 'SLC37A4', 'SLC6A6', 'SRPX', 'STBD1', 'STC1', 'STC2', 'SULT2B1', 'TES', 'TGFB3', 'TGFBI', 'TGM2', 'TIPARP', 'TKTL1', 'TMEM45A', 'TNFAIP3', 'TPBG', 'TPD52', 'TPI1', 'TPST2', 'UGP2', 'VEGFA', 'VHL', 'VLDLR', 'WSB1', 'XPNPEP1', 'ZFP36', 'ZNF292'], 'PID_CDC42_PATHWAY': ['ACTR2', 'ACTR3', 'APC', 'ARHGDIA', 'ARHGEF6', 'ARHGEF7', 'ARPC1B', 'ARPC2', 'ARPC3', 'ARPC4', 'ARPC5', 'ATF2', 'BAIAP2', 'BCAR1', 'BRAF', 'CBL', 'CDC42', 'CDC42BPA', 'CDH1', 'CFL1', 'CTNNA1', 'CTNNB1', 'DIAPH3', 'DLG1', 'ENAH', 'EPS8', 'EXOC7', 'F2RL2', 'GSK3B', 'HES5', 'HRAS', 'IQGAP1', 'IQGAP3', 'JUN', 'LIMK1', 'LIMK2', 'MAP2K3', 'MAP2K4', 'MAP2K6', 'MAP2K7', 'MAP3K1', 'MAP3K11', 'MAPK1', 'MAPK14', 'MAPK3', 'MAPK8', 'MAPK9', 'MTOR', 'MYL2', 'PAK1', 'PAK2', 'PAK4', 'PARD6A', 'PAX6', 'PIK3CA', 'PIK3R1', 'PLD1', 'PRKCE', 'PRKCZ', 'RAC1', 'RAF1', 'RASGRF1', 'RPS6KB1', 'SEPTIN2', 'SRC', 'TIAM1', 'TNK2', 'VAV2', 'WASL', 'YES1'], 'KEGG_REGULATION_OF_AUTOPHAGY': ['ATG12', 'ATG3', 'ATG4A', 'ATG4B', 'ATG4C', 'ATG4D', 'ATG5', 'ATG7', 'BECN1', 'BECN2', 'GABARAP', 'GABARAPL1', 'GABARAPL2', 'IFNA1', 'IFNA10', 'IFNA13', 'IFNA14', 'IFNA16', 'IFNA17', 'IFNA2', 'IFNA21', 'IFNA4', 'IFNA5', 'IFNA6', 'IFNA7', 'IFNA8', 'IFNG', 'INS', 'PIK3C3', 'PIK3R4', 'PRKAA1', 'PRKAA2', 'ULK1', 'ULK2', 'ULK3'], 'REACTOME_SIGNALING_BY_BMP': ['ACVR2A', 'ACVR2B', 'ACVRL1', 'AMH', 'AMHR2', 'BMP10', 'BMP2', 'BMPR1A', 'BMPR1B', 'BMPR2', 'CER1', 'CHRDL1', 'FSTL1', 'GDF2', 'GREM2', 'NOG', 'SKI', 'SMAD1', 'SMAD4', 'SMAD5', 'SMAD6', 'SMAD7', 'SMAD9', 'SMURF1', 'SMURF2', 'UBE2D1', 'UBE2D3', 'ZFYVE16'], 'KEGG_CELL_ADHESION_MOLECULES_CAMS': ['ALCAM', 'CADM1', 'CADM3', 'CD2', 'CD22', 'CD226', 'CD274', 'CD276', 'CD28', 'CD34', 'CD4', 'CD40', 'CD40LG', 'CD58', 'CD6', 'CD80', 'CD86', 'CD8A', 'CD8B', 'CD99', 'CDH1', 'CDH15', 'CDH2', 'CDH3', 'CDH4', 'CDH5', 'CLDN1', 'CLDN10', 'CLDN11', 'CLDN14', 'CLDN15', 'CLDN16', 'CLDN17', 'CLDN18', 'CLDN19', 'CLDN2', 'CLDN20', 'CLDN22', 'CLDN23', 'CLDN3', 'CLDN4', 'CLDN5', 'CLDN6', 'CLDN7', 'CLDN8', 'CLDN9', 'CNTN1', 'CNTN2', 'CNTNAP1', 'CNTNAP2', 'CTLA4', 'ESAM', 'F11R', 'GLG1', 'HLA-A', 'HLA-B', 'HLA-C', 'HLA-DMA', 'HLA-DMB', 'HLA-DOA', 'HLA-DOB', 'HLA-DPA1', 'HLA-DPB1', 'HLA-DQA1', 'HLA-DQA2', 'HLA-DQB1', 'HLA-DRA', 'HLA-DRB1', 'HLA-DRB3', 'HLA-DRB4', 'HLA-DRB5', 'HLA-E', 'HLA-F', 'HLA-G', 'ICAM1', 'ICAM2', 'ICAM3', 'ICOS', 'ICOSLG', 'ITGA4', 'ITGA6', 'ITGA8', 'ITGA9', 'ITGAL', 'ITGAM', 'ITGAV', 'ITGB1', 'ITGB2', 'ITGB7', 'ITGB8', 'JAM2', 'JAM3', 'L1CAM', 'MADCAM1', 'MAG', 'MPZ', 'MPZL1', 'NCAM1', 'NCAM2', 'NECTIN1', 'NECTIN2', 'NECTIN3', 'NEGR1', 'NEO1', 'NFASC', 'NLGN1', 'NLGN2', 'NLGN3', 'NLGN4X', 'NRCAM', 'NRXN1', 'NRXN2', 'NRXN3', 'OCLN', 'PDCD1', 'PDCD1LG2', 'PECAM1', 'PTPRC', 'PTPRF', 'PTPRM', 'PVR', 'SDC1', 'SDC2', 'SDC3', 'SDC4', 'SELE', 'SELL', 'SELP', 'SELPLG', 'SIGLEC1', 'SPN', 'VCAM1', 'VCAN'], 'KEGG_ADHERENS_JUNCTION': ['ACP1', 'ACTB', 'ACTG1', 'ACTN1', 'ACTN2', 'ACTN3', 'ACTN4', 'AFDN', 'BAIAP2', 'CDC42', 'CDH1', 'CREBBP', 'CSNK2A1', 'CSNK2A2', 'CSNK2B', 'CTNNA1', 'CTNNA2', 'CTNNA3', 'CTNNB1', 'CTNND1', 'EGFR', 'EP300', 'ERBB2', 'FARP2', 'FER', 'FGFR1', 'FYN', 'IGF1R', 'INSR', 'IQGAP1', 'LEF1', 'LMO7', 'MAP3K7', 'MAPK1', 'MAPK3', 'MET', 'NECTIN1', 'NECTIN2', 'NECTIN3', 'NECTIN4', 'NLK', 'PARD3', 'PTPN1', 'PTPN6', 'PTPRB', 'PTPRF', 'PTPRJ', 'PTPRM', 'RAC1', 'RAC2', 'RAC3', 'RHOA', 'SMAD2', 'SMAD3', 'SMAD4', 'SNAI1', 'SNAI2', 'SORBS1', 'SRC', 'SSX2IP', 'TCF7', 'TCF7L1', 'TCF7L2', 'TGFBR1', 'TGFBR2', 'TJP1', 'VCL', 'WAS', 'WASF1', 'WASF2', 'WASF3', 'WASL', 'YES1'], 'WP_AUTOPHAGY': ['AKT1S1', 'AMBRA1', 'ATG101', 'ATG12', 'ATG13', 'ATG14', 'ATG16L1', 'ATG3', 'ATG5', 'ATG7', 'ATG9A', 'BECN1', 'DEPTOR', 'MAP1LC3B', 'MLST8', 'MTOR', 'PIK3C3', 'PIK3R4', 'PRKAA1', 'PRKAA2', 'PRKAB1', 'PRKAB2', 'PRKAG1', 'PRKAG2', 'PRKAG3', 'RB1CC1', 'RPTOR', 'ULK1', 'UVRAG', 'WIPI2'], 'REACTOME_PI3K_AKT_SIGNALING_IN_CANCER': ['AKT1', 'AKT1S1', 'AKT2', 'AKT3', 'AREG', 'BAD', 'BTC', 'CASP9', 'CD19', 'CD28', 'CD80', 'CD86', 'CDKN1A', 'CDKN1B', 'CHUK', 'CREB1', 'EGF', 'EGFR', 'EPGN', 'ERBB2', 'ERBB3', 'ERBB4', 'EREG', 'ESR1', 'ESR2', 'FGF1', 'FGF10', 'FGF16', 'FGF17', 'FGF18', 'FGF19', 'FGF2', 'FGF20', 'FGF22', 'FGF23', 'FGF3', 'FGF4', 'FGF5', 'FGF6', 'FGF7', 'FGF8', 'FGF9', 'FGFR1', 'FGFR2', 'FGFR3', 'FGFR4', 'FLT3', 'FLT3LG', 'FOXO1', 'FOXO3', 'FOXO4', 'FOXO6', 'FRS2', 'FYN', 'GAB1', 'GAB2', 'GRB2', 'GSK3A', 'GSK3B', 'HBEGF', 'HGF', 'ICOS', 'IRS1', 'IRS2', 'KIT', 'KITLG', 'KL', 'KLB', 'LCK', 'MAPKAP1', 'MDM2', 'MET', 'MLST8', 'MTOR', 'NR4A1', 'NRG1', 'NRG2', 'NRG3', 'NRG4', 'PDGFA', 'PDGFB', 'PDGFRA', 'PDGFRB', 'PDPK1', 'PIK3AP1', 'PIK3CA', 'PIK3CB', 'PIK3CD', 'PIK3R1', 'PIK3R2', 'PIK3R3', 'PRR5', 'PTEN', 'PTPN11', 'RAC1', 'RAC2', 'RHOG', 'RICTOR', 'RPS6KB2', 'SRC', 'STRN', 'TGFA', 'TRAT1', 'TSC2', 'VAV1'], 'HALLMARK_IL6_JAK_STAT3_SIGNALING': ['A2M', 'ACVR1B', 'ACVRL1', 'BAK1', 'CBL', 'CCL7', 'CCR1', 'CD14', 'CD36', 'CD38', 'CD44', 'CD9', 'CNTFR', 'CRLF2', 'CSF1', 'CSF2', 'CSF2RA', 'CSF2RB', 'CSF3R', 'CXCL1', 'CXCL10', 'CXCL11', 'CXCL13', 'CXCL3', 'CXCL9', 'DNTT', 'EBI3', 'FAS', 'GRB2', 'HAX1', 'HMOX1', 'IFNAR1', 'IFNGR1', 'IFNGR2', 'IL10RB', 'IL12RB1', 'IL13RA1', 'IL15RA', 'IL17RA', 'IL17RB', 'IL18R1', 'IL1B', 'IL1R1', 'IL1R2', 'IL2RA', 'IL2RG', 'IL3RA', 'IL4R', 'IL6', 'IL6ST', 'IL7', 'IL9R', 'INHBE', 'IRF1', 'IRF9', 'ITGA4', 'ITGB3', 'JUN', 'LEPR', 'LTB', 'LTBR', 'MAP3K8', 'MYD88', 'OSMR', 'PDGFC', 'PF4', 'PIK3R5', 'PIM1', 'PLA2G2A', 'PTPN1', 'PTPN11', 'PTPN2', 'REG1A', 'SOCS1', 'SOCS3', 'STAM2', 'STAT1', 'STAT2', 'STAT3', 'TGFB1', 'TLR2', 'TNF', 'TNFRSF12A', 'TNFRSF1A', 'TNFRSF1B', 'TNFRSF21', 'TYK2'], 'BIOCARTA_CELL2CELL_PATHWAY': ['ACTN1', 'ACTN2', 'ACTN3', 'BCAR1', 'CSK', 'CTNNA1', 'CTNNA2', 'CTNNA3', 'CTNNB1', 'LRRTM2', 'PECAM1', 'VCL'], 'GOBP_REGULATION_OF_BMP_SIGNALING_PATHWAY': ['ABL1', 'ACVRL1', 'BAMBI', 'BMP4', 'BMPER', 'BMPR2', 'CCN1', 'CDH5', 'CER1', 'CHRD', 'CHRDL1', 'CRB2', 'CRIM1', 'CTDSPL2', 'DAND5', 'DLX1', 'ELAPOR2', 'ENG', 'FBN1', 'FBXL15', 'FKBP8', 'FOXD1', 'FST', 'FSTL1', 'FSTL3', 'GATA4', 'GDF2', 'GDF3', 'GDF5', 'GPC3', 'GREM1', 'GREM2', 'HES1', 'HES5', 'HIPK2', 'HOXA13', 'HTRA1', 'HTRA3', 'ITGA3', 'LEMD2', 'LEMD3', 'LRP2', 'MIR140', 'MIR20A', 'MIR26A1', 'MSX1', 'NBL1', 'NEO1', 'NOG', 'NOTCH1', 'NOTCH2', 'NUMA1', 'PCSK6', 'PELO', 'PPARG', 'PPM1A', 'RBPJ', 'RBPMS2', 'RNF165', 'SFRP1', 'SFRP2', 'SFRP4', 'SFRP5', 'SKI', 'SKIL', 'SKOR1', 'SKOR2', 'SMAD2', 'SMAD4', 'SMAD6', 'SMAD7', 'SMURF1', 'SMURF2', 'SORL1', 'SOST', 'SOSTDC1', 'SOX11', 'SPART', 'SULF1', 'TFAP2B', 'TMPRSS6', 'TOB1', 'TRIM33', 'TWSG1', 'UBE2O', 'VWC2', 'VWC2L', 'WNT1', 'WNT5A', 'XIAP', 'ZNF423'], 'PID_BMP_PATHWAY': ['AHSG', 'BAMBI', 'BMP2', 'BMP4', 'BMP6', 'BMP7', 'BMPR1A', 'BMPR1B', 'BMPR2', 'CER1', 'CHRD', 'CHRDL1', 'CTDSP1', 'CTDSP2', 'CTDSPL', 'FST', 'GREM1', 'GSK3B', 'HJV', 'MAP3K7', 'MAPK1', 'NOG', 'NUP214', 'PPM1A', 'PPP1CA', 'PPP1R15A', 'RGMA', 'RGMB', 'SKI', 'SMAD1', 'SMAD4', 'SMAD5', 'SMAD6', 'SMAD7', 'SMAD9', 'SMURF1', 'SMURF2', 'SOSTDC1', 'TAB1', 'TAB2', 'XIAP', 'ZFYVE16'], 'HALLMARK_PI3K_AKT_MTOR_SIGNALING': ['ACACA', 'ACTR2', 'ACTR3', 'ADCY2', 'AKT1', 'AKT1S1', 'AP2M1', 'ARF1', 'ARHGDIA', 'ARPC3', 'ATF1', 'CAB39', 'CAB39L', 'CALR', 'CAMK4', 'CDK1', 'CDK2', 'CDK4', 'CDKN1A', 'CDKN1B', 'CFL1', 'CLTC', 'CSNK2B', 'CXCR4', 'DAPP1', 'DDIT3', 'DUSP3', 'E2F1', 'ECSIT', 'EGFR', 'EIF4E', 'FASLG', 'FGF17', 'FGF22', 'FGF6', 'GNA14', 'GNGT1', 'GRB2', 'GRK2', 'GSK3B', 'HRAS', 'HSP90B1', 'IL2RG', 'IL4', 'IRAK4', 'ITPR2', 'LCK', 'MAP2K3', 'MAP2K6', 'MAP3K7', 'MAPK1', 'MAPK10', 'MAPK8', 'MAPK9', 'MAPKAP1', 'MKNK1', 'MKNK2', 'MYD88', 'NCK1', 'NFKBIB', 'NGF', 'NOD1', 'PAK4', 'PDK1', 'PFN1', 'PIK3R3', 'PIKFYVE', 'PIN1', 'PITX2', 'PLA2G12A', 'PLCB1', 'PLCG1', 'PPP1CA', 'PPP2R1B', 'PRKAA2', 'PRKAG1', 'PRKAR2A', 'PRKCB', 'PTEN', 'PTPN11', 'RAC1', 'RAF1', 'RALB', 'RIPK1', 'RIT1', 'RPS6KA1', 'RPS6KA3', 'RPTOR', 'SFN', 'SLA', 'SLC2A1', 'SMAD2', 'SQSTM1', 'STAT2', 'TBK1', 'THEM4', 'TIAM1', 'TNFRSF1A', 'TRAF2', 'TRIB3', 'TSC2', 'UBE2D3', 'UBE2N', 'VAV3', 'YWHAB'], 'BIOCARTA_HIF_PATHWAY': ['ARNT', 'ASPH', 'COPS5', 'CREB1', 'EDN1', 'EP300', 'EPO', 'HIF1A', 'HSP90AA1', 'JUN', 'LDHA', 'NOS3', 'P4HB', 'VEGFA', 'VHL'], 'WONG_EMBRYONIC_STEM_CELL_CORE': ['ABCB7', 'ACAD8', 'ADH5', 'ADSL', 'AK4', 'ALDH7A1', 'ALDOC', 'AMOTL2', 'ANP32E', 'APEX1', 'ATP5PF', 'ATP5PO', 'AURKA', 'AURKB', 'BANF1', 'BAX', 'BCAT1', 'BIRC5', 'BLM', 'BRIX1', 'BTF3', 'BUB1', 'BUB1B', 'BUB3', 'CBX3', 'CCNA2', 'CCNB2', 'CCNC', 'CCND1', 'CCND2', 'CCNF', 'CCT5', 'CDC20', 'CDC34', 'CDC6', 'CDC7', 'CDCA3', 'CDCA5', 'CDCA7', 'CDCA8', 'CDK1', 'CDK4', 'CDKN1C', 'CDKN3', 'CHAF1A', 'CHEK1', 'CHEK2', 'CISD1', 'CKAP2', 'CKS1B', 'CKS2', 'CLPP', 'COQ3', 'COX5B', 'CRABP2', 'CSE1L', 'CSRP2', 'CTNNA1', 'CTSC', 'CYCS', 'DAP3', 'DARS2', 'DBF4', 'DDX18', 'DEK', 'DHX9', 'DLAT', 'DLGAP5', 'DNMT1', 'DPP3', 'DTL', 'DTYMK', 'E2F3', 'EBNA1BP2', 'ECHS1', 'EEF1E1', 'EEF2', 'EIF2S2', 'EIF2S3', 'EIF3A', 'EIF3I', 'EIF3K', 'EIF3L', 'EIF4A1', 'EIF4B', 'EIF4EBP1', 'EIF6', 'ELOVL6', 'EMC8', 'ENO1', 'ERCC6L', 'ERP29', 'ETFA', 'EXO1', 'EXOSC7', 'FAM136A', 'FARSA', 'FBL', 'FDPS', 'FGFR1', 'FH', 'G3BP1', 'GARS1', 'GART', 'GEMIN2', 'GEMIN6', 'GJA1', 'GLDC', 'GLO1', 'GMNN', 'GNA14', 'GNL3', 'GNPDA1', 'GSPT2', 'GTSE1', 'HADH', 'HAT1', 'HAUS1', 'HDAC1', 'HELLS', 'HMGB2', 'HMGN5', 'HNRNPA1', 'HNRNPAB', 'HNRNPK', 'HNRNPL', 'HSPA14', 'HSPA9', 'HSPE1', 'IARS1', 'IPO9', 'JPT1', 'KIF11', 'KIF20A', 'KIF22', 'KIF23', 'KIF4A', 'KPNA2', 'KPNA6', 'KRAS', 'LBHD1', 'LMNB1', 'LSM10', 'LSM2', 'LSM4', 'LSM5', 'LYPLA1', 'MAD2L1', 'MAIP1', 'MAPK13', 'MCM2', 'MCM3', 'MCM4', 'MCM5', 'MCM7', 'MID1IP1', 'MRPL11', 'MRPL12', 'MRPL13', 'MRPL15', 'MRPL16', 'MRPL37', 'MRPL39', 'MRPL4', 'MRPS17', 'MRPS18B', 'MRPS2', 'MRPS28', 'MRPS30', 'MRPS36', 'MRTO4', 'MSH2', 'MTF2', 'MTHFD2', 'MYBL2', 'MYC', 'NAP1L1', 'NASP', 'NCAPD2', 'NCAPH', 'NCBP2', 'NCL', 'NDC80', 'NDUFA11', 'NDUFA9', 'NDUFAB1', 'NDUFB10', 'NDUFB7', 'NDUFB8', 'NDUFS2', 'NEK2', 'NHP2', 'NIFK', 'NIP7', 'NIPSNAP1', 'NLN', 'NME2', 'NME4', 'NONO', 'NOP10', 'NOP2', 'NT5DC2', 'NTHL1', 'NUDCD2', 'NUP107', 'NUSAP1', 'ORC1', 'OTX2', 'PA2G4', 'PABPC1', 'PARP1', 'PCNA', 'PDCD2', 'PDHA1', 'PDIA4', 'PDPN', 'PHB', 'PHC1', 'PHF5A', 'PIPOX', 'PLK1', 'PLK4', 'POLD1', 'POLE2', 'POLR2F', 'POLR3K', 'POP7', 'PPM1G', 'PPP4C', 'PRDX1', 'PRIM1', 'PRIM2', 'PRMT1', 'PRMT3', 'PROM1', 'PRPS1', 'PSMA5', 'PSMA7', 'PSMB5', 'PSMB6', 'PSMD14', 'PSME3', 'PUS1', 'RAB34', 'RACGAP1', 'RAD18', 'RAD23B', 'RCC1', 'RCC2', 'RCN2', 'RFC3', 'RNPS1', 'RPA2', 'RPA3', 'RPL10A', 'RPL13', 'RPL22', 'RPL27A', 'RPP40', 'RPS12', 'RPS16', 'RPS19', 'RPS23', 'RPS27', 'RPS3', 'RPS5', 'RPS8', 'RPSA', 'RRM1', 'RRM2', 'RUVBL1', 'RUVBL2', 'SARS1', 'SDHC', 'SDHD', 'SEPHS2', 'SERPINH1', 'SET', 'SINHCAF', 'SLC16A1', 'SLC25A5', 'SLC2A1', 'SMC2', 'SMC4', 'SNRNP40', 'SNRPA', 'SNRPA1', 'SNRPD1', 'SNX5', 'SOX2', 'SPAG5', 'SQLE', 'SRSF10', 'SS18', 'SSB', 'STIP1', 'STOML2', 'SUMO1', 'TCF19', 'TCF7L1', 'TCOF1', 'TEAD2', 'TERF1', 'TGIF1', 'TGIF2', 'THOC3', 'TIMM13', 'TIMM44', 'TIMM8A', 'TIMM8B', 'TMEFF1', 'TOP2A', 'TP53', 'TRIP13', 'TRIP6', 'TTK', 'U2AF1', 'UBE2G1', 'UBE2V2', 'UGDH', 'UQCR11', 'UQCRH', 'UTP18', 'VBP1', 'VRK1', 'WBP11', 'WDHD1', 'WDR77', 'WEE1', 'XPO1', 'XRCC5', 'YAP1', 'YY1', 'ZIC3', 'ZNF22'], 'BIOCARTA_VEGF_PATHWAY': ['ARNT', 'EIF1', 'EIF1AX', 'EIF2B1', 'EIF2B2', 'EIF2B3', 'EIF2B4', 'EIF2B5', 'EIF2S1', 'EIF2S2', 'EIF2S3', 'ELAVL1', 'FLT1', 'FLT4', 'HIF1A', 'HRAS', 'KDR', 'NOS3', 'PIK3CA', 'PIK3CG', 'PIK3R1', 'PLCG1', 'PRKCA', 'PRKCB', 'SHC1', 'VEGFA', 'VHL']}\n"
     ]
    }
   ],
   "source": [
    "import re, glob\n",
    "\n",
    "# genesets in this folder must have the MsigDB format, because i will use regex to parse second line as separator\n",
    "gene_sets_path = '/Users/jplab/Desktop/2021-11/code/11-3_more_pathway_genes/genesets/*.txt'\n",
    "gene_sets_files = glob.glob(gene_sets_path)\n",
    "\n",
    "pathway_name_and_genelist = {}\n",
    "for gene_set in gene_sets_files:\n",
    "\n",
    "    # start with '> ', end with any chararcters\n",
    "    regex_pattern = '^> .*$'\n",
    "\n",
    "    with open(gene_set) as f:\n",
    "\n",
    "        l_list = f.readlines()\n",
    "\n",
    "        l_list_without_newline = []\n",
    "\n",
    "\n",
    "        for line in l_list:\n",
    "\n",
    "            l_list_without_newline.append(line.rstrip('\\n'))\n",
    "   \n",
    "            match = re.search(regex_pattern, line)\n",
    "\n",
    "            if match:\n",
    "                matched_string = match.group(0)\n",
    "                print('match  result: ', matched_string)\n",
    "\n",
    "        # should always be 1\n",
    "        reg_index = l_list_without_newline.index(matched_string)\n",
    "        print(reg_index)\n",
    "\n",
    "        # split pathway gene list by regex matchde line\n",
    "        pathway_name_and_genelist[l_list_without_newline[0]] = l_list_without_newline[reg_index+1:]\n",
    "\n",
    "print(pathway_name_and_genelist)        "
   ]
  }
 ],
 "metadata": {
  "interpreter": {
   "hash": "40d3a090f54c6569ab1632332b64b2c03c39dcf918b08424e98f38b5ae0af88f"
  },
  "kernelspec": {
   "display_name": "Python 3.8.5 64-bit ('base': conda)",
   "name": "python3"
  },
  "language_info": {
   "codemirror_mode": {
    "name": "ipython",
    "version": 3
   },
   "file_extension": ".py",
   "mimetype": "text/x-python",
   "name": "python",
   "nbconvert_exporter": "python",
   "pygments_lexer": "ipython3",
   "version": "3.8.5"
  },
  "orig_nbformat": 4
 },
 "nbformat": 4,
 "nbformat_minor": 2
}
