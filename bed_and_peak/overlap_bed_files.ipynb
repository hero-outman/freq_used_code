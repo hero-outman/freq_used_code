{
 "cells": [
  {
   "cell_type": "code",
   "execution_count": 1,
   "metadata": {},
   "outputs": [],
   "source": [
    "import subprocess, sys, os, glob\n",
    "\n",
    "wkdir = '/Users/jplab/Desktop/DAILY_CODE_DATA/2022-5/data/5-20_ATAC_BDT_UNIQ'\n",
    "os.chdir(wkdir)"
   ]
  },
  {
   "cell_type": "markdown",
   "metadata": {},
   "source": [
    "### a method for run param formatted commands"
   ]
  },
  {
   "cell_type": "code",
   "execution_count": 2,
   "metadata": {},
   "outputs": [],
   "source": [
    "def run_commds(command_with_param, successinfo, errorinfo):\n",
    "    '''\n",
    "    @param command_with_param: command with params to be run\n",
    "    @param successinfo: info to be printed if command is successful\n",
    "    @param errorinfo: info to be printed if command is unsuccessful\n",
    "    '''\n",
    "\n",
    "    print('run commands: {0}, on dir: {1}'.format(command_with_param, os.getcwd()))\n",
    "\n",
    "    try:\n",
    "        p = subprocess.Popen(\n",
    "                            command_with_param,\n",
    "                            shell=True,\n",
    "                            cwd = os.getcwd(),\n",
    "                            stdin = subprocess.PIPE, \n",
    "                            stdout = subprocess.PIPE, \n",
    "                            stderr = subprocess.PIPE) \n",
    "\n",
    "        output, error = p.communicate()\n",
    "\n",
    "        output = output.decode(\"utf-8\")\n",
    "\n",
    "        if not output:\n",
    "            output = successinfo\n",
    "\n",
    "        if p.returncode == 0: \n",
    "            print('OUTPUT:\\n {0}'.format(output)) \n",
    "\n",
    "            return True\n",
    "        else: \n",
    "            print('ERROR:\\n {0}'.format(error.decode(\"utf-8\")))\n",
    "\n",
    "            return False\n",
    "\n",
    "    except Exception as e:\n",
    "        print(e)\n",
    "        print(errorinfo)\n",
    "\n",
    "        return False\n"
   ]
  },
  {
   "cell_type": "markdown",
   "metadata": {},
   "source": [
    "### bed files comes from many different results, their columns are different, they will be processed here\n",
    "* remove GL KI and no chrxx started lines by grep -v -E 'GL|KI'\n",
    "* cut -f1-6 to keep 6 columns\n",
    "* then intersect or intersect -v after doing this."
   ]
  },
  {
   "cell_type": "code",
   "execution_count": null,
   "metadata": {},
   "outputs": [],
   "source": [
    "# need_to_cut_beds_path = '/Users/jplab/Desktop/snakepipes_Data/ATAC_seq_shFOXA1_snakepipes_results/MACS_allLen_noDUP_noChrM/naiveOverlap_q001/*.sorted.narrowPeak'\n",
    "need_to_cut_beds_path = '/Users/jplab/Desktop/snakepipes_Data/ATAC_seq_shFOXA1_snakepipes_results/CSAW_MACS2/*_BDT/bed/*mostEnrich.sorted.bed'\n",
    "\n",
    "need_to_cut_beds = glob.glob(need_to_cut_beds_path)\n",
    "\n",
    "for f in need_to_cut_beds:\n",
    "    ext_name = f.split('/')[-1].split('.')[-1]\n",
    "    sample_name = f.split('/')[-1].split('.'+ext_name)[0]\n",
    "\n",
    "    remove_GLKI_and_cut_commds = \"cat {0} | grep -v -E 'GL|KI' | cut -f1-6 > {1}\"\n",
    "    remove_GLKI_and_cut_commds = remove_GLKI_and_cut_commds.format(f, sample_name+'.cut.temp.bed')\n",
    "    \n",
    "    if not run_commds(\n",
    "        remove_GLKI_and_cut_commds, \n",
    "        'remove_GLKI_and_cut_commds successful', \n",
    "        'remove_GLKI_and_cut_commds unsuccessful'):\n",
    "        print('fail on: {0}'.format(f))\n",
    "\n"
   ]
  },
  {
   "cell_type": "markdown",
   "metadata": {},
   "source": [
    "### Bed files need to be sorted by position"
   ]
  },
  {
   "cell_type": "code",
   "execution_count": 3,
   "metadata": {},
   "outputs": [],
   "source": [
    "# NC*.sorted.narrowPeak\n",
    "# F_*.sorted.narrowPeak\n",
    "navie_overlap_bed_file_path = '/Users/jplab/Desktop/DAILY_CODE_DATA/2022-5/data/5-20_ATAC_BDT_UNIQ/F*_overlap_peaks.sorted.cut.temp.bed'\n",
    "navie_overlap_bed_files = glob.glob(navie_overlap_bed_file_path)\n",
    "\n",
    "most_enriched_bed_suffix = 'sh*mostEnrich.sorted.cut.temp.bed'\n",
    "most_enriched_bed_path = '/Users/jplab/Desktop/DAILY_CODE_DATA/2022-5/data/5-20_ATAC_BDT_UNIQ/' + most_enriched_bed_suffix\n",
    "most_enriched_beds = glob.glob(most_enriched_bed_path)\n",
    "\n",
    "n_bed = len(navie_overlap_bed_files)\n",
    "\n",
    "if n_bed == 0:\n",
    "    print('No bed files found,please provide correct bed files')\n",
    "    sys.exit()"
   ]
  },
  {
   "cell_type": "markdown",
   "metadata": {},
   "source": [
    "### get primary common overlap bed"
   ]
  },
  {
   "cell_type": "code",
   "execution_count": 4,
   "metadata": {},
   "outputs": [
    {
     "name": "stdout",
     "output_type": "stream",
     "text": [
      "run commands: bedtools intersect -wa -a /Users/jplab/Desktop/DAILY_CODE_DATA/2022-5/data/5-20_ATAC_BDT_UNIQ/F_T_overlap_peaks.sorted.cut.temp.bed -b /Users/jplab/Desktop/DAILY_CODE_DATA/2022-5/data/5-20_ATAC_BDT_UNIQ/F_D_overlap_peaks.sorted.cut.temp.bed /Users/jplab/Desktop/DAILY_CODE_DATA/2022-5/data/5-20_ATAC_BDT_UNIQ/F_B_overlap_peaks.sorted.cut.temp.bed -sorted | uniq -d  > primary_common.bed, on dir: /Users/jplab/Desktop/DAILY_CODE_DATA/2022-5/data/5-20_ATAC_BDT_UNIQ\n",
      "OUTPUT:\n",
      " bedtools intersect done\n"
     ]
    }
   ],
   "source": [
    "query_bed = navie_overlap_bed_files[0]\n",
    "other_bed = navie_overlap_bed_files[1:]\n",
    "\n",
    "other_bed_str = ' '.join(other_bed)\n",
    "\n",
    "# bed_intersect_command = 'bedtools intersect -wa -wb -a {0} -b {1} -filenames -sorted > common.bed'.format(query_bed, other_bed_str)\n",
    "# just wa: query.bed, no wb other bed need to be reported, later will be easier to uniq lines.\n",
    "# uniq -d: yes, just print duplicates lines(these lines are both overlap by A in B and C )\n",
    "out_put_bed_name = 'primary_common.bed'\n",
    "bed_intersect_command = 'bedtools intersect -wa -a {0} -b {1} -sorted | uniq -d  > '.format(query_bed, other_bed_str) + out_put_bed_name\n",
    "\n",
    "if not run_commds(bed_intersect_command, 'bedtools intersect done', 'bedtools intersect failed'):\n",
    "    print('fail on: {0}'.format(f))"
   ]
  },
  {
   "cell_type": "markdown",
   "metadata": {},
   "source": [
    "## process primary common overlap bed to final common overlap\n",
    "* remove B14 most enrich but DMSO and TGF also open regions(both open: high low low), also TGF-beta"
   ]
  },
  {
   "cell_type": "code",
   "execution_count": 7,
   "metadata": {},
   "outputs": [
    {
     "name": "stdout",
     "output_type": "stream",
     "text": [
      "run commands: ['bedtools intersect -a final_common_overlap_temp.bed -b /Users/jplab/Desktop/DAILY_CODE_DATA/2022-5/data/5-20_ATAC_BDT_UNIQ/shFOXA1_BDT_TGFmostEnrich.sorted.cut.temp.bed -v > final_common_overlap.bed'], on dir: /Users/jplab/Desktop/DAILY_CODE_DATA/2022-5/data/5-20_ATAC_BDT_UNIQ\n",
      "OUTPUT:\n",
      " bedtools intersect done\n"
     ]
    }
   ],
   "source": [
    "primary_common_overlap_bed_path = './' + out_put_bed_name\n",
    "\n",
    "final_bed_name_temp = '{0}.bed'.format('final_common_overlap_temp')\n",
    "final_bed_name = '{0}.bed'.format('final_common_overlap')\n",
    "intersect_v_commands = 'bedtools intersect -a {0} -b {1} -v > {2}'\n",
    "\n",
    "# change here\n",
    "# commds = [intersect_v_commands.format(primary_common_overlap_bed_path, most_enriched_beds[0], final_bed_name_temp)]\n",
    "commds = [intersect_v_commands.format(final_bed_name_temp, most_enriched_beds[1],final_bed_name)]\n",
    "\n",
    "if not run_commds(commds, 'bedtools intersect done', 'bedtools intersect failed'):\n",
    "    print('fail on: {0}'.format(f))"
   ]
  },
  {
   "cell_type": "markdown",
   "metadata": {},
   "source": [
    "## get uniq B14 or TGF-beta open region\n",
    "* use B14 or TGF most enriched region to remove regions which open in common overlap region, to get uniq open region in B14 or TGF"
   ]
  },
  {
   "cell_type": "code",
   "execution_count": 10,
   "metadata": {},
   "outputs": [
    {
     "name": "stdout",
     "output_type": "stream",
     "text": [
      "run commands: ['bedtools intersect -a /Users/jplab/Desktop/DAILY_CODE_DATA/2022-5/data/5-20_ATAC_BDT_UNIQ/shFOXA1_BDT_TGFmostEnrich.sorted.cut.temp.bed -b /Users/jplab/Desktop/DAILY_CODE_DATA/2022-5/data/5-20_ATAC_BDT_UNIQ/final_common_overlap.bed -v > shFOXA1_BDT_TGFUniqOpen.bed'], on dir: /Users/jplab/Desktop/DAILY_CODE_DATA/2022-5/data/5-20_ATAC_BDT_UNIQ\n",
      "OUTPUT:\n",
      " get uniq open region done\n"
     ]
    }
   ],
   "source": [
    "final_common_overlap_bed_path = '/Users/jplab/Desktop/DAILY_CODE_DATA/2022-5/data/5-20_ATAC_BDT_UNIQ/final_common_overlap.bed'\n",
    "\n",
    "b14_most_enriched = '{0}.bed'.format('/Users/jplab/Desktop/DAILY_CODE_DATA/2022-5/data/5-20_ATAC_BDT_UNIQ/shFOXA1_BDT_B14mostEnrich.sorted.cut.temp')\n",
    "tgf_most_enriched = '{0}.bed'.format('/Users/jplab/Desktop/DAILY_CODE_DATA/2022-5/data/5-20_ATAC_BDT_UNIQ/shFOXA1_BDT_TGFmostEnrich.sorted.cut.temp')\n",
    "uniq_bed_name = 'shFOXA1_BDT_TGF'+'UniqOpen.bed'\n",
    "\n",
    "\n",
    "intersect_v_commands = 'bedtools intersect -a {0} -b {1} -v > {2}'\n",
    "\n",
    "# check args and check if matching are correct\n",
    "commds = [intersect_v_commands.format(tgf_most_enriched, final_common_overlap_bed_path, uniq_bed_name)]\n",
    "\n",
    "if not run_commds(commds, 'get uniq open region done', 'get uniq open region failed'):\n",
    "    print('fail on: {0}'.format(f))"
   ]
  },
  {
   "cell_type": "markdown",
   "metadata": {},
   "source": [
    "### manually check"
   ]
  },
  {
   "cell_type": "code",
   "execution_count": null,
   "metadata": {},
   "outputs": [],
   "source": [
    "# bedtools intersect \\\n",
    "# -a /Users/jplab/Desktop/DAILY_CODE_DATA/2022-5/data/5-20_ATAC_BDT_UNIQ/ncFOXA1_BDT_B14mostEnrich.sorted.cut.temp.bed \\\n",
    "# -b /Users/jplab/Desktop/DAILY_CODE_DATA/2022-5/data/5-20_ATAC_BDT_UNIQ/final_common_overlap.bed \\\n",
    "# -v \\\n",
    "# > ncFOXA1_BDT_TGFUniqOpen.bed\n",
    "\n",
    "# bedtools intersect \\\n",
    "# -a /Users/jplab/Desktop/snakepipes_Data/ATAC_seq_shFOXA1_snakepipes_results/CSAW_MACS2/ncFOXA1_BDT/bed/ncFOXA1_BDT_B14mostEnrich.sorted.bed \\\n",
    "# -b /Users/jplab/Desktop/DAILY_CODE_DATA/2022-5/data/5-20_ATAC_BDT_UNIQ/final_common_overlap.bed \\\n",
    "# -v \\\n",
    "# > ncFOXA1_BDT_B14UniqOpen.bed"
   ]
  }
 ],
 "metadata": {
  "interpreter": {
   "hash": "40d3a090f54c6569ab1632332b64b2c03c39dcf918b08424e98f38b5ae0af88f"
  },
  "kernelspec": {
   "display_name": "Python 3.8.5 ('base')",
   "language": "python",
   "name": "python3"
  },
  "language_info": {
   "codemirror_mode": {
    "name": "ipython",
    "version": 3
   },
   "file_extension": ".py",
   "mimetype": "text/x-python",
   "name": "python",
   "nbconvert_exporter": "python",
   "pygments_lexer": "ipython3",
   "version": "3.8.5"
  },
  "orig_nbformat": 4
 },
 "nbformat": 4,
 "nbformat_minor": 2
}
